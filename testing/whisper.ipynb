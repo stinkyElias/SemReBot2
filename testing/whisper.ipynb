{
 "cells": [
  {
   "cell_type": "code",
   "execution_count": null,
   "metadata": {},
   "outputs": [],
   "source": [
    "import os\n",
    "import torch\n",
    "import soundfile as sf\n",
    "\n",
    "from transformers import pipeline\n",
    "from transformers.utils import is_flash_attn_2_available\n",
    "from jiwer import wer"
   ]
  },
  {
   "cell_type": "markdown",
   "metadata": {},
   "source": [
    "#### Load models with flash attention\n",
    "\n",
    "Loading models sizes with flash attention. For every loading and inference, compute and store the memory usage, word error rate and real-time factor"
   ]
  },
  {
   "cell_type": "code",
   "execution_count": null,
   "metadata": {},
   "outputs": [],
   "source": [
    "tiny = 'openai/whisper-tiny'\n",
    "base = 'openai/whisper-base'\n",
    "small = 'openai/whisper-small'\n",
    "medium = 'openai/whisper-medium'\n",
    "large = 'openai/whisper-large-v3'\n",
    "\n",
    "models = [tiny, base, small, medium, large]\n",
    "\n",
    "audio_files = os.listdir('audio_files')"
   ]
  },
  {
   "cell_type": "markdown",
   "metadata": {},
   "source": [
    "Create a file to store test results"
   ]
  },
  {
   "cell_type": "code",
   "execution_count": null,
   "metadata": {},
   "outputs": [],
   "source": [
    "results_file = 'whisper_results.txt'\n",
    "if os.path.exists(results_file):\n",
    "    os.remove(results_file)\n",
    "\n",
    "header = \"******** Whisper Automatic Speech Recognition test ********\\n\"\n",
    "underline = \"___________________________________________________________\\n\"\n",
    "\n",
    "with open(results_file, 'a') as f:\n",
    "    f.write(header)\n",
    "    f.write(underline)"
   ]
  },
  {
   "cell_type": "markdown",
   "metadata": {},
   "source": [
    "#### Testing pipeline"
   ]
  },
  {
   "cell_type": "code",
   "execution_count": null,
   "metadata": {},
   "outputs": [],
   "source": [
    "for model in models:\n",
    "    torch.cuda.empty_cache()\n",
    "    asr_pipeline = pipeline('automatic-speech-recognition',\n",
    "                            model=model,\n",
    "                            torch_dtype=torch.float16,\n",
    "                            device='cuda:0',\n",
    "                            model_kwargs={'attn_implementation': 'flash_attention_2'} if is_flash_attn_2_available() else {'attn_implementation': 'sdpa'}\n",
    "    )\n",
    "\n",
    "    # check how much memory the model is using when loaded\n",
    "    gpu_mem_loaded = torch.cuda.memory_allocated('cuda:0')\n",
    "\n",
    "    for audio_file in audio_files:\n",
    "        torch.cuda.empty_cache()\n",
    "\n",
    "        start = torch.cuda.Event(enable_timing=True)\n",
    "        start.record()\n",
    "        \n",
    "        output = asr_pipeline(\n",
    "            f'audio_files/{audio_file}',\n",
    "            chunk_length_s=30,\n",
    "            batch_size=24,\n",
    "            return_timestamps=True\n",
    "        )\n",
    "\n",
    "        end = torch.cuda.Event(enable_timing=True)\n",
    "        end.record()\n",
    "\n",
    "        torch.cuda.synchronize()\n",
    "        timer = start.elapsed_time(end)/1000\n",
    "\n",
    "        gpu_mem_inf = torch.cuda.memory_allocated('cuda:0')\n",
    "        delta_gpu_mem = gpu_mem_inf-gpu_mem_loaded\n",
    "\n",
    "        # extract audio file duration and compute Real-Time Factor\n",
    "        audio_info = sf.info(f'audio_files/{audio_file}')\n",
    "        rtf = timer/audio_info.duration\n",
    "\n",
    "        # compute Word Error Rate\n",
    "        with open(f'references/{audio_file[:-4]}.txt', 'r') as f:\n",
    "            reference = f.read().replace('\\n', ' ')\n",
    "        \n",
    "        # if first char in hypothesis is whitespace, remove it\n",
    "        if output['text'][0] == ' ':\n",
    "            output['text'] = output['text'][1:]\n",
    "        hypothesis = output['text']\n",
    "        wer_result = wer(reference, hypothesis)\n",
    "\n",
    "        result = {\n",
    "                  'Model': model + '-flash',\n",
    "                  'Audio file': audio_file,\n",
    "                  'WER': round(wer_result, 5),\n",
    "                  'RTF': round(rtf, 5),\n",
    "                  'GPU memory while loaded [MB]': round(gpu_mem_loaded*1e-6, 5),\n",
    "                  'GPU memory while inference [MB]': round(gpu_mem_inf*1e-6, 5),\n",
    "                  'Delta GPU memory [MB]': round(delta_gpu_mem*1e-6, 5),\n",
    "        }\n",
    "\n",
    "        with open(results_file, 'a') as infile:\n",
    "            for key, value in result.items():\n",
    "                infile.write(f'{key:<32}: {value}\\n')\n",
    "            infile.write(underline)\n",
    "        \n",
    "        print(f'Model {model} finished')"
   ]
  },
  {
   "cell_type": "markdown",
   "metadata": {},
   "source": [
    "Write results to file"
   ]
  },
  {
   "cell_type": "code",
   "execution_count": null,
   "metadata": {},
   "outputs": [],
   "source": []
  }
 ],
 "metadata": {
  "kernelspec": {
   "display_name": "falcon",
   "language": "python",
   "name": "python3"
  },
  "language_info": {
   "codemirror_mode": {
    "name": "ipython",
    "version": 3
   },
   "file_extension": ".py",
   "mimetype": "text/x-python",
   "name": "python",
   "nbconvert_exporter": "python",
   "pygments_lexer": "ipython3",
   "version": "3.9.18"
  }
 },
 "nbformat": 4,
 "nbformat_minor": 2
}
