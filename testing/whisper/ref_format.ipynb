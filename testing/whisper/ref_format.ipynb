{
 "cells": [
  {
   "cell_type": "code",
   "execution_count": 1,
   "metadata": {},
   "outputs": [],
   "source": [
    "# read all the text files in /references/, remove all double spaces and newlines, and write to a single file. Between each file, write a newline and the text file name.\n",
    "# the files are called 01.txt, 02.txt up to 10. txt\n",
    "\n",
    "import os\n",
    "\n",
    "def read_file(file):\n",
    "    with open(file, 'r') as f:\n",
    "        return f.read().replace('\\n', ' ').replace('  ', ' ')\n",
    "    \n",
    "def write_file(file, text):\n",
    "    with open(file, 'w') as f:\n",
    "        f.write(text)\n",
    "\n",
    "def main():\n",
    "    text = ''\n",
    "    for i in range(1, 11):\n",
    "        file = f'references/{i:02d}.txt'\n",
    "        text += f'\\n{file}\\n{read_file(file)}'\n",
    "    write_file('references.txt', text)\n",
    "\n",
    "if __name__ == '__main__':\n",
    "    main()"
   ]
  }
 ],
 "metadata": {
  "kernelspec": {
   "display_name": "falcon",
   "language": "python",
   "name": "python3"
  },
  "language_info": {
   "codemirror_mode": {
    "name": "ipython",
    "version": 3
   },
   "file_extension": ".py",
   "mimetype": "text/x-python",
   "name": "python",
   "nbconvert_exporter": "python",
   "pygments_lexer": "ipython3",
   "version": "3.11.5"
  }
 },
 "nbformat": 4,
 "nbformat_minor": 2
}
