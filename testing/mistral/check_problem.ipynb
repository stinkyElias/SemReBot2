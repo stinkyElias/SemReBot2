{
 "cells": [
  {
   "cell_type": "code",
   "execution_count": 162,
   "metadata": {},
   "outputs": [
    {
     "name": "stdout",
     "output_type": "stream",
     "text": [
      "instance f0 fuel|instance f1 fuel|instance s0 space|instance s1 space|instance l0 location|instance l1 location|instance v0 vehicle|instance c0 cargo|\n",
      "predicate not-equal l0 l1|predicate not-equal l1 l0|predicate fuel-neighbor f0 f1|predicate space-neighbor s0 s1|predicate conn l0 l1|predicate conn l1 l0|predicate has-fuel l0 f1|predicate has-fuel l1 f0|predicate has-space v0 s1|predicate at v0 l1|predicate at c0 l0|\n",
      "goal at c0 l0|\n"
     ]
    }
   ],
   "source": [
    "import json\n",
    "\n",
    "n = 28\n",
    "\n",
    "with open('shots.jsonl', 'r') as f:\n",
    "    data = json.load(f)\n",
    "\n",
    "outputs = []\n",
    "for i in range(len(data['shots'])):\n",
    "    outputs.append(data['shots'][i]['output'])\n",
    "\n",
    "instances = outputs[n].split('predicate')[0]\n",
    "predicates = outputs[n].split('goal ')[0].replace(instances, '')\n",
    "goals = outputs[n].replace(instances + predicates, '')\n",
    "\n",
    "print(instances)\n",
    "print(predicates)\n",
    "print(goals)"
   ]
  },
  {
   "cell_type": "code",
   "execution_count": 163,
   "metadata": {},
   "outputs": [],
   "source": [
    "instances = instances.replace(\"|\", \" |\")\n",
    "predicates = predicates.replace(\"|\", \" |\")\n",
    "goals = goals.replace(\"|\", \" |\")\n",
    "\n",
    "instances_words = instances.split()\n",
    "predicates_words = predicates.split()\n",
    "goals_words = goals.split()"
   ]
  },
  {
   "cell_type": "code",
   "execution_count": 164,
   "metadata": {},
   "outputs": [],
   "source": [
    "problem_inst = {'fuel': 2,\n",
    "                'space': 2,\n",
    "                'location': 2,\n",
    "                'vehicle': 1,\n",
    "                'cargo': 1,\n",
    "                }\n",
    "\n",
    "for key in problem_inst.keys():\n",
    "    count = instances_words.count(key)\n",
    "    if count != problem_inst[key]:\n",
    "        print(\"Error: expected\", problem_inst[key], key, \"instances, but found\", count)"
   ]
  },
  {
   "cell_type": "code",
   "execution_count": 165,
   "metadata": {},
   "outputs": [],
   "source": [
    "problem_preds = {'not-equal': 2,\n",
    "                 'fuel-neighbor': 1,\n",
    "                 'space-neighbor': 1,\n",
    "                 'conn': 2,\n",
    "                 'has-fuel': 2,\n",
    "                 'has-space': 1,\n",
    "                 'at': 2,\n",
    "                 }\n",
    "\n",
    "for key in problem_preds.keys():\n",
    "    count = predicates_words.count(key)\n",
    "    if count != problem_preds[key]:\n",
    "        print(\"Error: expected\", problem_preds[key], key, \"predicates, but found\", count)"
   ]
  },
  {
   "cell_type": "code",
   "execution_count": 166,
   "metadata": {},
   "outputs": [],
   "source": [
    "problem_goals = {'at': 1,\n",
    "\n",
    "                 }\n",
    "\n",
    "for key in problem_goals.keys():\n",
    "    count = goals_words.count(key)\n",
    "    if count != problem_goals[key]:\n",
    "        print(\"Error: expected\", problem_goals[key], key, \"goals, but found\", count)"
   ]
  }
 ],
 "metadata": {
  "kernelspec": {
   "display_name": "Python 3",
   "language": "python",
   "name": "python3"
  },
  "language_info": {
   "codemirror_mode": {
    "name": "ipython",
    "version": 3
   },
   "file_extension": ".py",
   "mimetype": "text/x-python",
   "name": "python",
   "nbconvert_exporter": "python",
   "pygments_lexer": "ipython3",
   "version": "3.10.12"
  }
 },
 "nbformat": 4,
 "nbformat_minor": 2
}
