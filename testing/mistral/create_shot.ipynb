{
 "cells": [
  {
   "cell_type": "code",
   "execution_count": 43,
   "metadata": {},
   "outputs": [],
   "source": [
    "# create a script that iterates through all dirs in a folder, copy the content of every \"domain.pddl\" file in each dir and store them in a new text file\n",
    "\n",
    "import os\n",
    "import shutil\n",
    "\n",
    "dir = '/home/stinky/Documents/pddl-generators/'\n",
    "dirs = [d for d in os.listdir(dir) if '.' not in d]\n",
    "\n",
    "if 'build_all' in dirs:\n",
    "    dirs.remove('build_all')"
   ]
  },
  {
   "cell_type": "code",
   "execution_count": 44,
   "metadata": {},
   "outputs": [
    {
     "name": "stdout",
     "output_type": "stream",
     "text": [
      "domain.pddl file not found in pathways\n",
      "domain.pddl file not found in openstacks\n",
      "domain.pddl file not found in crewplanning\n",
      "domain.pddl file not found in trucks\n",
      "domain.pddl file not found in npuzzle\n",
      "domain.pddl file not found in turnandopen\n",
      "All domain.pddl files have been copied to all_domains.txt\n"
     ]
    }
   ],
   "source": [
    "for d in dirs:\n",
    "    domain_file = os.path.join(dir, d, \"domain.pddl\")\n",
    "    if os.path.exists(domain_file):\n",
    "        with open(domain_file, \"r\") as f:\n",
    "            domain_content = f.read()\n",
    "        with open(os.path.join(os.getcwd(), \"all_domains.txt\"), \"a\") as f:\n",
    "            f.write(domain_content)\n",
    "            f.write(\"\\n\")\n",
    "    else:\n",
    "        print(f\"domain.pddl file not found in {d}\")\n",
    "\n",
    "print(\"All domain.pddl files have been copied to all_domains.txt\")"
   ]
  },
  {
   "cell_type": "code",
   "execution_count": 42,
   "metadata": {},
   "outputs": [],
   "source": [
    "with open('all_domains.txt', 'r') as file:\n",
    "    lines = file.readlines()\n",
    "\n",
    "new_lines = []\n",
    "capture = False\n",
    "\n",
    "for line in lines:\n",
    "    if '(:types' in line:\n",
    "        capture = True\n",
    "    elif '(:predicates' in line:\n",
    "        capture = True\n",
    "    elif '(:' in line:\n",
    "        capture = False\n",
    "\n",
    "    if capture:\n",
    "        new_lines.append(line)\n",
    "\n",
    "with open('edited_domains.txt', 'w') as file:\n",
    "    file.writelines(new_lines)"
   ]
  },
  {
   "cell_type": "code",
   "execution_count": 32,
   "metadata": {},
   "outputs": [],
   "source": [
    "with open('edited_domains.txt', 'r') as file:\n",
    "    lines = file.readlines()\n",
    "\n",
    "new_lines = []\n",
    "capture = False\n",
    "last_seen = None\n",
    "\n",
    "for line in lines:\n",
    "    if '(:types' in line:\n",
    "        if last_seen != 'types':\n",
    "            capture = True\n",
    "            last_seen = 'types'\n",
    "        else:\n",
    "            capture = False\n",
    "    elif '(:predicates' in line:\n",
    "        if last_seen != 'predicates':\n",
    "            capture = True\n",
    "            last_seen = 'predicates'\n",
    "        else:\n",
    "            capture = False\n",
    "    elif '(:' in line:\n",
    "        capture = False\n",
    "\n",
    "    if capture:\n",
    "        new_lines.append(line)\n",
    "\n",
    "with open('filtered_domains.txt', 'w') as file:\n",
    "    file.writelines(new_lines)"
   ]
  },
  {
   "cell_type": "code",
   "execution_count": 33,
   "metadata": {},
   "outputs": [],
   "source": [
    "with open('filtered_domains.txt', 'r') as file:\n",
    "    content = file.read()\n",
    "\n",
    "content_without_newlines = content.replace('\\n', ' ')\n",
    "\n",
    "with open('filtered_domains.txt', 'w') as file:\n",
    "    file.write(content_without_newlines)"
   ]
  },
  {
   "cell_type": "code",
   "execution_count": 34,
   "metadata": {},
   "outputs": [],
   "source": [
    "import re\n",
    "\n",
    "with open('filtered_domains.txt', 'r') as file:\n",
    "    content = file.read()\n",
    "\n",
    "content_without_multiple_whitespaces = re.sub('\\s+', ' ', content)\n",
    "\n",
    "with open('filtered_domains.txt', 'w') as file:\n",
    "    file.write(content_without_multiple_whitespaces)"
   ]
  },
  {
   "cell_type": "code",
   "execution_count": 37,
   "metadata": {},
   "outputs": [],
   "source": [
    "with open('filtered_domains.txt', 'r') as file:\n",
    "    content = file.read()\n",
    "\n",
    "sections = []\n",
    "current_section = ''\n",
    "for line in content.split(') '):\n",
    "    if '(:types' in line or '(:predicates' in line:\n",
    "        if current_section:\n",
    "            sections.append(current_section)\n",
    "        current_section = line + ') '\n",
    "    else:\n",
    "        current_section += line + ') '\n",
    "\n",
    "if current_section:\n",
    "    sections.append(current_section)\n",
    "\n",
    "# in every instance of the sections list, delete all characters before the first opening bracket\n",
    "for i, section in enumerate(sections):\n",
    "    sections[i] = section[section.index('('):]\n"
   ]
  },
  {
   "cell_type": "code",
   "execution_count": 39,
   "metadata": {},
   "outputs": [],
   "source": [
    "# import json\n",
    "\n",
    "# instances = []\n",
    "# for i in range(0, len(sections), 2):\n",
    "#     instance = {\n",
    "#         \"domain\": sections[i] + sections[i+1],\n",
    "#         \"input\": \"\",  # replace with actual data\n",
    "#         \"output\": \"\"  # replace with actual data\n",
    "#     }\n",
    "#     instances.append(instance)\n",
    "\n",
    "# data = {\"shots\": instances}\n",
    "\n",
    "# with open('shots.jsonl', 'w') as file:\n",
    "#     file.write(json.dumps(data, indent=4))"
   ]
  }
 ],
 "metadata": {
  "kernelspec": {
   "display_name": "Python 3",
   "language": "python",
   "name": "python3"
  },
  "language_info": {
   "codemirror_mode": {
    "name": "ipython",
    "version": 3
   },
   "file_extension": ".py",
   "mimetype": "text/x-python",
   "name": "python",
   "nbconvert_exporter": "python",
   "pygments_lexer": "ipython3",
   "version": "3.10.12"
  }
 },
 "nbformat": 4,
 "nbformat_minor": 2
}
