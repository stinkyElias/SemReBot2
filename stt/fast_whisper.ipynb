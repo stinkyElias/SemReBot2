{
 "cells": [
  {
   "cell_type": "code",
   "execution_count": 1,
   "metadata": {},
   "outputs": [],
   "source": [
    "import torch\n",
    "\n",
    "from transformers import pipeline\n",
    "from transformers.utils import is_flash_attn_2_available"
   ]
  },
  {
   "cell_type": "code",
   "execution_count": 2,
   "metadata": {},
   "outputs": [
    {
     "name": "stderr",
     "output_type": "stream",
     "text": [
      "Special tokens have been added in the vocabulary, make sure the associated word embeddings are fine-tuned or trained.\n"
     ]
    }
   ],
   "source": [
    "pipeline = pipeline(\n",
    "    'automatic-speech-recognition',\n",
    "    model='openai/whisper-large-v3',\n",
    "    torch_dtype=torch.float16,\n",
    "    device='cuda:0',\n",
    "    model_kwargs={'attn_implementation': 'flash_attention_2'} if is_flash_attn_2_available() else {'attn_implementation': 'sdpa'},\n",
    "    \n",
    ")"
   ]
  },
  {
   "cell_type": "code",
   "execution_count": 3,
   "metadata": {},
   "outputs": [
    {
     "name": "stdout",
     "output_type": "stream",
     "text": [
      " What are the first words you should say in a speech? And what are the last words you should say in a speech? Now tomorrow, I don't know how many of you are speaking, but I guarantee if you go to conferences, 19 out of 20 speakers will start in one of these ways. Number one, my name is Connor Neal, I'm from Tango and this talk is about the latest trend in monitoring strategies. Now all of you are sitting with a piece of paper in front of you that says I'm Connor Neal, I've come from Ireland and I'm going to talk about Tango 04 and this. So by repeating what you already know I'm giving a signal that it's a time to get your BlackBerry out I've just signaled that this talk is opportunity to reconnect with BlackBerry make sure the office is okay maybe get some plans together for the weekend Another way to start. The lights, the mic's working. How much time have I got? Okay. Right. Okay. Is it plugged in? And you laugh, but I guarantee tomorrow, there's going to be some moments that get a little bit of that. And why? Because this is, for some of you, the first time you see this individual, they're here as a leader in their industry. And your kid at school presenting on giraffes does a better job. That's sad So I think there's only three ways of starting a speech And it's the same if you went into a bar and there's a group of people as a networking event much like you were at before you walked into this room and maybe I came up to a group there's a group of three people who are having a little conversation I walk in and I say, hi I'm Connor, I'm Irish, 38 years old I have an interest in sailing, I like running and they've walked away how do you get people to engage with you when you're networking? and they've walked away. How do you get people to engage with you when you're networking? I'd say in networking, the best thing you can do is walk up. I think we know someone in common. Try and walk away when someone comes up and says that to you. Hopefully you've done your research so you do know that you know someone in common. But with LinkedIn, you can find out who knows who on anyone you want. How to start a speech? First way, with a question that matters to the audience. How do you phrase a problem that the audience faces in a question so that'd be the third best way of starting a speech the second best way of starting a speech is with a factoid that shocks there's more people alive today than have ever died more people alive today than have ever died a lot of speeches that can follow on from there every two minutes, the energy reaching the Earth from the sun is equivalent to the whole annual usage of humanity. All the energy, all the cars, everything moving, all the lighting, all the air conditioning of the world in one year is equivalent to two minutes of Sun does that change how you think about energy so what's a fact that shocks the audience into rethinking and Google has transformed your ability to get at these facts. Given two or three minutes, you can find out one, whether anything I've said is true, but you trust me because I looked the part and I'm from ESA. Those are in fact two true facts. I usually get someone come up to me and are you sure about how do they measure dead and alive? But it's true and it's not even close. But the best way to start a speech and the way that I hope all of you use from now forward is the same way we start a story to a child. How do we start a story to a child? Erase una vez, once upon a time. What happens when you say once upon a time. And what happens when you say once upon a time? I can tell you what happens when I say once upon a time, my daughter leans forward, gets ready to hear, engages. And we were all trained as kids to know when a story is coming. We also know when a teacher is about to deliver a 40-minute boring lecture that has no impact on our lives. But in business, you don't hear Jack Welch saying, once upon a time. Steve Jobs doesn't start his speeches once upon a time. So there's a grown-up way of saying once upon a time. And if you listen to the conversations that are interesting around you at a dinner table, in a networking event, if you listen to the people that are gathering the group of eight that are listening to them, the way they're talking is different. The way they tell stories as an adult is, in October, it was the last time I was in this room, there were 120 people in the room, and I was having a little conversation with one of the world experts on public speaking. And he said something to me. He said something to me that's had me thinking ever since he said something to me that changed what I think about what's important in speaking now I can pause for about 30 seconds two three minutes and you want to know what he said so in speaking in sales we assume self-interest so if you can tell a story from your own life that connects you to why this topic is important to you why you first joined the company when you first saw someone benefit. And you saw how their life was changed. And I think here, exploring what quality of life means for you. In your business, how do you affect quality of life for a customer? quality of life for a customer. Because that's where the stories that will start to connect you to the audience will come from. Stories are about people. They're not about objects, they're not about things. It's about the people behind the things. If you want to tell a good story about Tango, don't talk about the software. Talk about the people who built the software what they do how they are what's important to them what they sacrifice and in your own life what does quality of life mean what sacrifices have you made to achieve something that was more important and if you can tell stories and the audience connect with those stories, then they want to hear what you have to say. And all the reasons and all the benefits, they're all written in the document and in the PowerPoint, but they need to trust you and they need to care about you as a person to engage with you and then decide that they will act.\n"
     ]
    }
   ],
   "source": [
    "output = pipeline(\n",
    "    'audio_files/speech.wav',\n",
    "    chunk_length_s=30,\n",
    "    batch_size=24,\n",
    "    return_timestamps=True,\n",
    "    )\n",
    "\n",
    "print(output['text'])"
   ]
  },
  {
   "cell_type": "code",
   "execution_count": null,
   "metadata": {},
   "outputs": [],
   "source": [
    "from whisper import load_model"
   ]
  },
  {
   "cell_type": "code",
   "execution_count": null,
   "metadata": {},
   "outputs": [],
   "source": [
    "model =  load_model('large').to('cuda:0')"
   ]
  },
  {
   "cell_type": "code",
   "execution_count": null,
   "metadata": {},
   "outputs": [],
   "source": [
    "result = model.transcribe('audio_files/speech.mp3', fp16=True)"
   ]
  },
  {
   "cell_type": "code",
   "execution_count": null,
   "metadata": {},
   "outputs": [],
   "source": [
    "print(result['text'])"
   ]
  },
  {
   "cell_type": "markdown",
   "metadata": {},
   "source": [
    "Fast Whisper: ~8 min -> 17,4 sekunder\n",
    "Whisper large: ~8 min -> 120,02 sekunder\n",
    "\n",
    "Ratio = 6,9"
   ]
  }
 ],
 "metadata": {
  "kernelspec": {
   "display_name": "stt",
   "language": "python",
   "name": "python3"
  },
  "language_info": {
   "codemirror_mode": {
    "name": "ipython",
    "version": 3
   },
   "file_extension": ".py",
   "mimetype": "text/x-python",
   "name": "python",
   "nbconvert_exporter": "python",
   "pygments_lexer": "ipython3",
   "version": "3.9.18"
  }
 },
 "nbformat": 4,
 "nbformat_minor": 2
}
