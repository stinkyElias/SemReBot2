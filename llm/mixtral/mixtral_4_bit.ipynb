{
 "cells": [
  {
   "cell_type": "code",
   "execution_count": null,
   "metadata": {},
   "outputs": [
    {
     "ename": "",
     "evalue": "",
     "output_type": "error",
     "traceback": [
      "\u001b[1;31mThe Kernel crashed while executing code in the the current cell or a previous cell. Please review the code in the cell(s) to identify a possible cause of the failure. Click <a href='https://aka.ms/vscodeJupyterKernelCrash'>here</a> for more info. View Jupyter <a href='command:jupyter.viewOutput'>log</a> for further details."
     ]
    }
   ],
   "source": [
    "import os\n",
    "os._exit(0)"
   ]
  },
  {
   "cell_type": "code",
   "execution_count": 1,
   "metadata": {},
   "outputs": [],
   "source": [
    "import os\n",
    "os.environ['HF_HOME'] = '/cluster/work/eliashk/models/mixtral/4-bit/'\n",
    "os.environ['BNB_4BIT_COMPUTE_DTYPE'] = 'torch.float16'\n",
    "\n",
    "import torch\n",
    "from transformers import AutoTokenizer, AutoModelForCausalLM\n",
    "\n",
    "torch.cuda.empty_cache()\n",
    "\n",
    "model_id = \"mistralai/Mixtral-8x7B-Instruct-v0.1\"\n",
    "tokenizer = AutoTokenizer.from_pretrained(model_id)"
   ]
  },
  {
   "cell_type": "code",
   "execution_count": 3,
   "metadata": {},
   "outputs": [
    {
     "data": {
      "application/vnd.jupyter.widget-view+json": {
       "model_id": "89a0d1ea711a4cddb6358657a6232e8f",
       "version_major": 2,
       "version_minor": 0
      },
      "text/plain": [
       "Loading checkpoint shards:   0%|          | 0/19 [00:00<?, ?it/s]"
      ]
     },
     "metadata": {},
     "output_type": "display_data"
    }
   ],
   "source": [
    "model = AutoModelForCausalLM.from_pretrained(\n",
    "    model_id,\n",
    "    load_in_4bit=True,\n",
    "    bnb_4bit_compute_dtype=torch.float16,\n",
    "    attn_implementation='flash_attention_2'\n",
    ")"
   ]
  },
  {
   "cell_type": "code",
   "execution_count": 8,
   "metadata": {},
   "outputs": [],
   "source": [
    "torch.cuda.empty_cache()"
   ]
  },
  {
   "cell_type": "code",
   "execution_count": 9,
   "metadata": {},
   "outputs": [
    {
     "name": "stderr",
     "output_type": "stream",
     "text": [
      "Setting `pad_token_id` to `eos_token_id`:2 for open-end generation.\n"
     ]
    },
    {
     "name": "stdout",
     "output_type": "stream",
     "text": [
      "[INST] What is PDDL? [/INST] PDDL stands for \"Planning Domain Definition Language.\" It is a standard language used in artificial intelligence (AI) planning to describe planning problems and domains. PDDL was developed to provide a common language for describing planning problems, making it easier to compare the performance of different planning systems and to develop new planning algorithms.\n",
      "\n",
      "In PDDL, a planning problem is defined by a set of objects, a set of initial conditions, and a goal state. The initial conditions describe the state of the world at the beginning of the planning process, and the goal state describes the desired state of the world at the end of the planning process. The planning problem is defined in terms of a set of actions, each of which has preconditions that must be true for the action to be executed and effects that describe how the action changes the state of the world.\n",
      "\n",
      "A planning domain, on the other hand, defines a set of action types that can be used to solve a variety of planning problems. Each action type has a set of parameters, preconditions, and effects, just like the actions in a planning problem. The difference is that the action types in a planning domain are more general and can be instantiated with specific objects and values to create the actions in a planning problem.\n",
      "\n",
      "PDDL has been extended over the years to include support for a variety of features, such as durative actions, conditional effects, and hierarchical planning. These extensions have made it possible to model a wider range of planning problems and to develop more sophisticated planning algorithms.\n"
     ]
    }
   ],
   "source": [
    "prompt = \"[INST] What is PDDL? [/INST]\"\n",
    "inputs = tokenizer(prompt, return_tensors=\"pt\").to(0)\n",
    "\n",
    "output = model.generate(**inputs, max_new_tokens=1000)\n",
    "print(tokenizer.decode(output[0], skip_special_tokens=True))"
   ]
  }
 ],
 "metadata": {
  "kernelspec": {
   "display_name": "Python 3",
   "language": "python",
   "name": "python3"
  },
  "language_info": {
   "codemirror_mode": {
    "name": "ipython",
    "version": 3
   },
   "file_extension": ".py",
   "mimetype": "text/x-python",
   "name": "python",
   "nbconvert_exporter": "python",
   "pygments_lexer": "ipython3",
   "version": "3.11.5"
  }
 },
 "nbformat": 4,
 "nbformat_minor": 2
}
