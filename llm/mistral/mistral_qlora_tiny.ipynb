{
 "cells": [
  {
   "cell_type": "code",
   "execution_count": null,
   "metadata": {},
   "outputs": [],
   "source": [
    "import torch\n",
    "from peft import AutoPeftModelForCausalLM\n",
    "from transformers import AutoTokenizer, pipeline\n",
    "\n",
    "model_dir = '/cluster/work/eliashk/models/qlora_finetuned'\n",
    "\n",
    "model = AutoPeftModelForCausalLM.from_pretrained(\n",
    "    model_dir,\n",
    "    device_map='auto',\n",
    "    torch_dtype=torch.float16\n",
    ")\n",
    "\n",
    "tokenizer = AutoTokenizer.from_pretrained(model_dir)\n",
    "pipe = pipeline('text-generation', model=model, tokenizer=tokenizer)"
   ]
  },
  {
   "cell_type": "code",
   "execution_count": null,
   "metadata": {},
   "outputs": [],
   "source": [
    "from datasets import load_dataset\n",
    "from random import randint\n",
    "\n",
    "eval_dataset = load_dataset('json', data_files='/cluster/work/eliashk/semantic-robot/datasets/train.jsonl', split='train')\n",
    "rand_idx = randint(0, len(eval_dataset))"
   ]
  },
  {
   "cell_type": "code",
   "execution_count": 16,
   "metadata": {},
   "outputs": [
    {
     "data": {
      "text/plain": [
       "'set instance l0 location|set instance l1 location|set instance l2 location|set instance l3 location|set instance l4 location|set instance o0 portable|set instance o1 portable|set instance o2 portable|set instance o3 portable|set predicate at o0 l3|set predicate at o1 l1|set predicate at o2 l2|set predicate at o3 l0|set predicate is-at l4|set goal at o0 l3|set goal at o1 l0|set goal at o2 l1|set goal at o3 l2|set goal is-at l1|'"
      ]
     },
     "execution_count": 16,
     "metadata": {},
     "output_type": "execute_result"
    }
   ],
   "source": [
    "eval_dataset[0]['messages'][2]['content']"
   ]
  },
  {
   "cell_type": "code",
   "execution_count": null,
   "metadata": {},
   "outputs": [],
   "source": [
    "\n",
    "prompt = pipe.tokenizer.apply_chat_template(eval_dataset[0]['messages'][:2], tokenize=False, add_generation_prompt=True)\n",
    "outputs = pipe(prompt, max_new_tokens=4096, do_sample=False, temperature=0.1, top_k=50, top_p=0.1, eos_token_id=pipe.tokenizer.eos_token_id, pad_token_id=pipe.tokenizer.pad_token_id)\n",
    "\n",
    "print(f\"Query:\\n{eval_dataset[rand_idx]['messages'][1]['content']}\")\n",
    "print(f\"Original answer:\\n{eval_dataset[rand_idx]['messages'][2]['content']}\")\n",
    "print(f\"Generated answer:\\n{outputs[0]['generated_text'][len(prompt):].strip()}\")"
   ]
  },
  {
   "cell_type": "code",
   "execution_count": 21,
   "metadata": {},
   "outputs": [
    {
     "data": {
      "text/plain": [
       "'Driver1 and Driver2 are at s0, while Truck1 and Truck2 are at s1. Package1 is at s0, and Package2 is at s1. The locations s0 and s1 are connected directly and also through a path via p0-1. Your task is to orchestrate the drivers and trucks so that Driver1 ends up back at s0, Driver2 at s1, Truck1 and Truck2 at s0, with Package1 moved to s1 and Package2 to s0, utilizing the paths and links available between the locations. s0 is linked to s1 and vice versa. There are paths from s0 to p0-1, s1 to p0-1 and vice versa.  \\npddl\\n(define (domain driverlog) (:requirements :typing) (:types location locatable - object driver truck obj - locatable ) (:predicates (at?obj - locatable?loc - location) (in?obj1 - obj?obj - truck) (driving?d - driver?v - truck) (link?x?y - location) (path?x?y - location) (empty?v - truck) ) (:action LOAD-TRUCK :parameters (?obj - obj?truck - truck?loc - location) :precondition (and (at?truck?loc) (at?obj?loc)) :effect (and (not (at?obj?loc)) (in?obj?truck))) (:action UNLOAD-TRUCK :parameters (?obj - obj?truck - truck?loc - location) :precondition (and (at?truck?loc) (in?obj?truck)) :effect (and (not (in?obj?truck)) (at?obj?loc))) (:action BOARD-TRUCK :parameters (?driver - driver?truck - truck?loc - location) :precondition (and (at?truck?loc) (at?driver?loc) (empty?truck)) :effect (and (not (at?driver?loc)) (driving?driver?truck) (not (empty?truck)))) (:action DISEMBARK-TRUCK :parameters (?driver - driver?truck - truck?loc - location) :precondition (and (at?truck?loc) (driving?driver?truck)) :effect (and (not (driving?driver?truck)) (at?driver?loc) (empty?truck))) (:action DRIVE-TRUCK :parameters (?truck - truck?loc-from - location?loc-to - location?driver - driver) :precondition (and (at?truck?loc-from) (driving?driver?truck) (link?loc-from?loc-to)) :effect (and (not (at?truck?loc-from)) (at?truck?loc-to))) (:action WALK :parameters (?driver - driver?loc-from - location?loc-to - location) :precondition (and (at?driver?loc-from) (path?loc-from?loc-to)) :effect (and (not (at?driver?loc-from)) (at?driver?loc-to))) ) (:action LOAD-PACKAGE :parameters (?obj - obj?loc - location?pkg - obj) :precondition (and (at?pkg?loc) (at?obj?loc)) :effect (and (not (at?obj?loc)) (in?obj?pkg))) (:action UNLOAD-PACKAGE :parameters (?obj - obj?loc - location?pkg - obj) :precondition (and (at?pkg?loc) (in?obj?pkg)) :effect (and (not (in?obj?pkg)) (at?obj?loc))) (:action LOAD-TRUCK-PACKAGE :parameters (?truck - truck?loc - location?pkg - obj) :precondition (and (at?truck?loc) (in?pkg?truck)) :effect (and (not (in?pkg?truck)) (at?pkg?loc))) (:action UNLOAD-TRUCK-PACKAGE :parameters (?truck - truck?loc - location?pkg - obj) :precondition (and (at?truck?loc) (at?pkg?loc)) :effect (and (not (at?pkg?loc)) (in?pkg?truck))) (:action LOAD-DRIVER-TRUCK :parameters (?driver - driver?truck - truck?loc - location) :precondition (and (at?truck?loc) (driving?driver?truck) (empty?truck)) :effect (and (not (empty?truck)) (in?driver?truck))) (:action UNLOAD-DRIVER-TRUCK :parameters (?driver - driver?truck - truck?loc - location) :precondition (and (at?truck?loc) (driving?driver?truck)) :effect (and (not (driving?driver?truck)) (at?driver?loc) (empty?truck))) (:action LOAD-DRIVER-PACKAGE :parameters (?driver - driver?pkg - obj?loc - location) :precondition (and (at?pkg?loc) (at?driver?loc) (empty?pkg)) :effect (and (not (empty?pkg)) (in?driver?pkg))) (:action UNLOAD-DRIVER-PACKAGE :parameters (?driver - driver?pkg - obj?loc - location) :precondition (and (at?pkg?loc) (in?driver?pkg)) :effect (and (not (in?driver?pkg)) (at?driver?loc) (empty?pkg))) (:action LOAD-TRUCK-DRIVER :parameters (?truck - truck?loc - location?driver - driver) :precondition (and (at?truck?loc) (driving?driver?truck) (empty?truck)) :effect (and (not (empty?truck)) (in?driver?truck))) (:action UNLOAD-TRUCK-DRIVER :parameters (?truck - truck?loc - location?driver - driver) :precondition (and (at?truck?loc) (driving?driver?truck)) :effect (and (not (driving?driver?truck)) (at?driver?loc) (empty?truck))) (:action LOAD-TRUCK-PACKAGE-DRIVER :parameters (?truck - truck?loc - location?pkg - obj?driver - driver) :precondition (and (at?truck?loc) (driving?driver?truck) (empty?truck) (at?pkg?loc) (at?driver?loc)) :effect (and (not (empty?truck)) (in?pkg?truck) (in?driver?truck))) (:action UNLOAD-TRUCK-PACKAGE-DRIVER :parameters (?truck - truck?loc - location?pkg - obj?driver - driver) :precondition (and (at?truck?loc) (driving?driver?truck) (empty?truck) (at?pkg?loc) (at?driver?loc)) :effect (and (not (empty?truck)) (in?driver?truck) (in?pkg?truck))) (:action LOAD-TRUCK-DRIVER-PACKAGE :parameters (?truck - truck?loc - location?pkg - obj?driver - driver) :precondition (and (at?truck?loc) (driving?driver?truck) (empty?truck) (at?pkg?loc) (at?driver?loc)) :effect (and (not (empty?truck)) (in?driver?pkg) (in?pkg?truck))) (:action UNLOAD-TRUCK-DRIVER-PACKAGE :parameters (?truck - truck?loc - location?pkg - obj?driver - driver) :precondition (and (at?truck?loc) (driving?driver?truck) (empty?truck) (at?pkg?loc) (at?driver?loc)) :effect (and (not (empty?truck)) (in?driver?truck) (in?pkg?truck))) (:action LOAD-TRUCK-DRIVER-PACKAGE-DRIVER :parameters (?truck - truck?loc - location?pkg - obj?driver1 - driver?driver2 - driver) :precondition (and (at?truck?loc) (driving?driver1?truck) (empty?truck) (at?pkg?loc) (at?driver1?loc) (at?driver2?loc)) :effect (and (not (empty?truck)) (in?driver1?pkg) (in?pkg?truck) (in?driver2?truck))) (:action UNLOAD-TRUCK-DRIVER-PACKAGE-DRIVER :parameters (?truck - truck?loc - location?pkg - obj?driver1 - driver?driver2 - driver) :precondition (and (at?truck?loc) (driving?driver1?truck) (empty?truck) (at?pkg?loc) (at?driver1?loc) (at?driver2?loc)) :effect (and (not (empty?truck)) (in?driver1?truck) (in?pkg?truck) (in?driver2?truck))) (:action LOAD-TRUCK-DRIVER-PACKAGE-DRIVER-DRIVER :parameters (?truck - truck?loc - location?pkg - obj?driver1 - driver?driver2 - driver?driver3 - driver) :precondition (and (at?truck?loc) (driving?driver1?truck) (empty?truck) (at?pkg?loc) (at?driver1?loc) (at?driver2?loc) (at?driver3?loc)) :effect (and (not (empty?truck)) (in?driver1?pkg) (in?pkg?truck) (in?driver2?truck) (in?driver3?truck))) (:action UNLOAD-TRUCK-DRIVER-PACKAGE-DRIVER-DRIVER :parameters (?truck - truck?loc - location?pkg - obj?driver1 - driver?driver2 - driver?driver3 - driver) :precondition (and (at?truck?loc) (driving?driver1?truck) (empty?truck) (at?pkg?loc) (at?driver1?loc) (at?driver2?loc) (at?driver3?loc)) :effect (and (not (empty?truck)) (in?driver1?truck) (in?pkg?truck) (in?driver2?truck) (in?driver3?truck))) (:action LOAD-TRUCK-DRIVER-PACKAGE-DRIVER-DRIVER-DRIVER :parameters (?truck - truck?loc - location?pkg - obj?driver1 - driver?driver2 - driver?driver3 - driver?driver4 - driver) :precondition (and (at?truck?loc) (driving?driver1?truck) (empty?truck) (at?pkg?loc) (at?driver1?loc) (at?driver2?loc) (at?driver3?loc) (at?driver4?loc)) :effect (and (not (empty?truck)) (in?driver1?pkg) (in?pkg?truck) (in?driver2?truck) (in?driver3?truck) (in?driver4?truck))) (:action UNLOAD-TRUCK-DRIVER-PACKAGE-DRIVER-DRIVER-DRIVER :parameters (?truck - truck?loc - location?pkg - obj?driver1 - driver?driver2 - driver?driver3 - driver?driver4 - driver) :precondition (and (at?truck?loc) (driving?driver1?truck) (empty?truck) (at?pkg?loc) (at?driver1?loc) (at?driver2?loc) (at?driver3?loc) (at?driver4?loc)) :effect (and (not (empty?truck)) (in?driver1?truck) (in?pkg?truck) (in?driver2?truck) (in?driver3?truck) (in?driver4?truck))) (:action LOAD-TRUCK-DRIVER-PACKAGE-DRIVER-DRIVER-DRIVER-DRIVER :parameters (?truck - truck?loc - location?pkg - obj?driver1 - driver?driver2 - driver?driver3 - driver?driver4 - driver?driver5 - driver) :precondition (and (at?truck?loc) (driving?driver1?truck) (empty?truck) (at?pkg?loc) (at?driver1?loc) (at?driver2?loc) (at?driver3?loc) (at?driver4?loc) (at?driver5?loc)) :effect (and (not (empty?truck)) (in?driver1?pkg) (in?pkg?truck) (in?driver2?truck) (in?driver3?truck) (in?driver4?truck) (in?driver5?truck))) (:action UNLOAD-TRUCK-DRIVER-PACKAGE-DRIVER-DRIVER-DRIVER-DRIVER :parameters (?truck - truck?loc - location?pkg - obj?driver1 - driver?driver2 - driver?driver3 - driver?driver4 - driver?driver5 - driver) :precondition (and (at?truck?loc) (driving?driver1?truck) (empty?truck) (at?pkg?loc) (at?driver1?loc) (at?driver2?loc) (at?driver3?loc) (at?driver4?loc) (at?driver5?loc)) :effect (and (not (empty?truck)) (in?driver1?truck) (in?pkg?truck) (in?driver2?truck) (in?driver3?truck) (in?driver4?truck) (in?driver5?truck))) (:action LOAD-TRUCK-DRIVER-PACKAGE-DRIVER-DRIVER-DRIVER-DRIVER-DRIVER :parameters (?truck - truck?loc - location?pkg - obj?driver1 - driver?driver2 - driver?driver3 - driver?driver4 - driver?driver5 - driver?driver6 - driver) :precondition (and (at?truck?loc) (driving?driver1?truck) (empty?truck) (at?pkg?loc) (at?driver1?loc) (at?driver2?loc) (at?driver3?loc) (at?driver4?loc) (at?driver5?loc) (at?driver6?loc)) :effect (and (not (empty?truck)) (in?driver1?pkg) (in?pkg?truck) (in?driver2?truck) (in?driver3?truck) (in?driver4?truck) (in?driver5?truck) (in?driver6?truck))) (:action UNLOAD-TRUCK-DRIVER-PACKAGE-DRIVER-DRIVER-DRIVER-DRIVER-DRIVER :parameters (?truck - truck?loc - location?pkg - obj?driver1 - driver?driver2 - driver?driver3 - driver?driver4 - driver?driver5 - driver?driver6 - driver) :precondition (and (at?truck?loc) (driving?driver1?truck) (empty?truck) (at?pkg?loc) (at?driver1?loc) (at?driver2?loc) (at?driver3?loc) (at?driver4?loc) (at?driver5?loc) (at?driver6?loc)) :effect (and (not (empty?truck)) (in?driver1?truck) (in?pkg?truck) (in?driver2?truck) (in?driver3?truck) (in?driver4?truck) (in?driver5?truck) (in?driver6?truck))) (:action LOAD-TRUCK-DRIVER-PACKAGE-DRIVER-DRIVER-DRIVER-DRIVER-DRIVER-DRIVER :parameters (?truck - truck?loc - location?pkg - obj?driver1 - driver?driver2 - driver?driver3 - driver?driver4 - driver?driver5 - driver?driver6 - driver?driver7 - driver) :precondition (and (at?truck?loc) (driving?driver1?truck) (empty?truck) (at?pkg?loc) (at?driver1?loc) (at?driver2?loc) (at?driver3?loc) (at?driver4?loc) (at?driver5?loc) (at?driver6?loc) (at?driver7?loc)) :effect (and (not (empty?truck)) (in?driver1?pkg) (in?pkg?truck) (in?driver2?truck) (in?driver3?truck) (in?driver4?truck) (in?driver5?truck) (in?driver6?truck) (in?driver7?truck))) (:action UNLOAD-TRUCK-DRIVER-PACKAGE-DRIVER-DRIVER-DRIVER-DRIVER-DRIVER-DRIVER :parameters (?truck - truck?loc - location?pkg - obj?driver1 - driver?driver2 - driver?driver3 - driver?driver4 - driver?driver5 - driver?driver6 - driver?driver7 - driver) :precondition (and (at?truck?loc) (driving?driver1?truck) (empty?truck) (at?pkg?loc) (at?'"
      ]
     },
     "execution_count": 21,
     "metadata": {},
     "output_type": "execute_result"
    }
   ],
   "source": [
    "outputs[0]['generated_text'][len(prompt):].strip()"
   ]
  }
 ],
 "metadata": {
  "kernelspec": {
   "display_name": "Python 3",
   "language": "python",
   "name": "python3"
  },
  "language_info": {
   "codemirror_mode": {
    "name": "ipython",
    "version": 3
   },
   "file_extension": ".py",
   "mimetype": "text/x-python",
   "name": "python",
   "nbconvert_exporter": "python",
   "pygments_lexer": "ipython3",
   "version": "3.11.7"
  }
 },
 "nbformat": 4,
 "nbformat_minor": 2
}
