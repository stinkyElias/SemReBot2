{
 "cells": [
  {
   "cell_type": "markdown",
   "metadata": {},
   "source": [
    "# Fine-tuning pipeline for quantesized LLMs"
   ]
  },
  {
   "cell_type": "code",
   "execution_count": 1,
   "metadata": {},
   "outputs": [],
   "source": [
    "personal = False\n",
    "idun = True"
   ]
  },
  {
   "cell_type": "code",
   "execution_count": 2,
   "metadata": {},
   "outputs": [
    {
     "ename": "ModuleNotFoundError",
     "evalue": "No module named 'datasets'",
     "output_type": "error",
     "traceback": [
      "\u001b[0;31m---------------------------------------------------------------------------\u001b[0m",
      "\u001b[0;31mModuleNotFoundError\u001b[0m                       Traceback (most recent call last)",
      "Cell \u001b[0;32mIn[2], line 10\u001b[0m\n\u001b[1;32m      6\u001b[0m     output_dir \u001b[38;5;241m=\u001b[39m os\u001b[38;5;241m.\u001b[39mpath\u001b[38;5;241m.\u001b[39mexpanduser(\u001b[38;5;124m'\u001b[39m\u001b[38;5;124m/cluster/work/eliashk/models\u001b[39m\u001b[38;5;124m'\u001b[39m)\n\u001b[1;32m      8\u001b[0m os\u001b[38;5;241m.\u001b[39menviron[\u001b[38;5;124m'\u001b[39m\u001b[38;5;124mHF_HOME\u001b[39m\u001b[38;5;124m'\u001b[39m] \u001b[38;5;241m=\u001b[39m output_dir\n\u001b[0;32m---> 10\u001b[0m \u001b[38;5;28;01mfrom\u001b[39;00m \u001b[38;5;21;01mdatasets\u001b[39;00m \u001b[38;5;28;01mimport\u001b[39;00m load_dataset\n\u001b[1;32m     12\u001b[0m tiny_dataset_path \u001b[38;5;241m=\u001b[39m \u001b[38;5;124m'\u001b[39m\u001b[38;5;124msingle_output_10_samples.jsonl\u001b[39m\u001b[38;5;124m'\u001b[39m\n\u001b[1;32m     14\u001b[0m raw_dataset \u001b[38;5;241m=\u001b[39m load_dataset(\u001b[38;5;124m'\u001b[39m\u001b[38;5;124mjson\u001b[39m\u001b[38;5;124m'\u001b[39m, data_files\u001b[38;5;241m=\u001b[39mtiny_dataset_path)\n",
      "\u001b[0;31mModuleNotFoundError\u001b[0m: No module named 'datasets'"
     ]
    }
   ],
   "source": [
    "import os\n",
    "\n",
    "if personal and not idun:\n",
    "    output_dir = os.path.expanduser('~/models')\n",
    "elif idun and not personal:\n",
    "    output_dir = os.path.expanduser('/cluster/work/eliashk/models')\n",
    "\n",
    "os.environ['HF_HOME'] = output_dir\n",
    "\n",
    "from datasets import load_dataset\n",
    "\n",
    "tiny_dataset_path = 'single_output_10_samples.jsonl'\n",
    "\n",
    "raw_dataset = load_dataset('json', data_files=tiny_dataset_path)"
   ]
  },
  {
   "cell_type": "markdown",
   "metadata": {},
   "source": [
    "### Install dependencies"
   ]
  },
  {
   "cell_type": "code",
   "execution_count": 3,
   "metadata": {},
   "outputs": [
    {
     "name": "stdout",
     "output_type": "stream",
     "text": [
      "Requirement already satisfied: torch==2.1.2 in /cluster/home/eliashk/mistral/lib/python3.11/site-packages (2.1.2)\n",
      "Collecting tensorboard\n",
      "  Using cached tensorboard-2.16.2-py3-none-any.whl.metadata (1.6 kB)\n",
      "Requirement already satisfied: filelock in /cluster/home/eliashk/mistral/lib/python3.11/site-packages (from torch==2.1.2) (3.13.1)\n",
      "Requirement already satisfied: typing-extensions in /cluster/home/eliashk/mistral/lib/python3.11/site-packages (from torch==2.1.2) (4.9.0)\n",
      "Requirement already satisfied: sympy in /cluster/home/eliashk/mistral/lib/python3.11/site-packages (from torch==2.1.2) (1.12)\n",
      "Requirement already satisfied: networkx in /cluster/home/eliashk/mistral/lib/python3.11/site-packages (from torch==2.1.2) (3.2.1)\n",
      "Requirement already satisfied: jinja2 in /cluster/home/eliashk/mistral/lib/python3.11/site-packages (from torch==2.1.2) (3.1.3)\n",
      "Requirement already satisfied: fsspec in /cluster/home/eliashk/mistral/lib/python3.11/site-packages (from torch==2.1.2) (2023.12.2)\n",
      "Requirement already satisfied: nvidia-cuda-nvrtc-cu12==12.1.105 in /cluster/home/eliashk/mistral/lib/python3.11/site-packages (from torch==2.1.2) (12.1.105)\n",
      "Requirement already satisfied: nvidia-cuda-runtime-cu12==12.1.105 in /cluster/home/eliashk/mistral/lib/python3.11/site-packages (from torch==2.1.2) (12.1.105)\n",
      "Requirement already satisfied: nvidia-cuda-cupti-cu12==12.1.105 in /cluster/home/eliashk/mistral/lib/python3.11/site-packages (from torch==2.1.2) (12.1.105)\n",
      "Requirement already satisfied: nvidia-cudnn-cu12==8.9.2.26 in /cluster/home/eliashk/mistral/lib/python3.11/site-packages (from torch==2.1.2) (8.9.2.26)\n",
      "Requirement already satisfied: nvidia-cublas-cu12==12.1.3.1 in /cluster/home/eliashk/mistral/lib/python3.11/site-packages (from torch==2.1.2) (12.1.3.1)\n",
      "Requirement already satisfied: nvidia-cufft-cu12==11.0.2.54 in /cluster/home/eliashk/mistral/lib/python3.11/site-packages (from torch==2.1.2) (11.0.2.54)\n",
      "Requirement already satisfied: nvidia-curand-cu12==10.3.2.106 in /cluster/home/eliashk/mistral/lib/python3.11/site-packages (from torch==2.1.2) (10.3.2.106)\n",
      "Requirement already satisfied: nvidia-cusolver-cu12==11.4.5.107 in /cluster/home/eliashk/mistral/lib/python3.11/site-packages (from torch==2.1.2) (11.4.5.107)\n",
      "Requirement already satisfied: nvidia-cusparse-cu12==12.1.0.106 in /cluster/home/eliashk/mistral/lib/python3.11/site-packages (from torch==2.1.2) (12.1.0.106)\n",
      "Requirement already satisfied: nvidia-nccl-cu12==2.18.1 in /cluster/home/eliashk/mistral/lib/python3.11/site-packages (from torch==2.1.2) (2.18.1)\n",
      "Requirement already satisfied: nvidia-nvtx-cu12==12.1.105 in /cluster/home/eliashk/mistral/lib/python3.11/site-packages (from torch==2.1.2) (12.1.105)\n",
      "Requirement already satisfied: triton==2.1.0 in /cluster/home/eliashk/mistral/lib/python3.11/site-packages (from torch==2.1.2) (2.1.0)\n",
      "Requirement already satisfied: nvidia-nvjitlink-cu12 in /cluster/home/eliashk/mistral/lib/python3.11/site-packages (from nvidia-cusolver-cu12==11.4.5.107->torch==2.1.2) (12.3.101)\n",
      "Collecting absl-py>=0.4 (from tensorboard)\n",
      "  Using cached absl_py-2.1.0-py3-none-any.whl.metadata (2.3 kB)\n",
      "Collecting grpcio>=1.48.2 (from tensorboard)\n",
      "  Using cached grpcio-1.62.1-cp311-cp311-manylinux_2_17_x86_64.manylinux2014_x86_64.whl.metadata (4.0 kB)\n",
      "Collecting markdown>=2.6.8 (from tensorboard)\n",
      "  Using cached Markdown-3.6-py3-none-any.whl.metadata (7.0 kB)\n",
      "Requirement already satisfied: numpy>=1.12.0 in /cluster/home/eliashk/mistral/lib/python3.11/site-packages (from tensorboard) (1.26.3)\n",
      "Collecting protobuf!=4.24.0,>=3.19.6 (from tensorboard)\n",
      "  Using cached protobuf-5.26.0-cp37-abi3-manylinux2014_x86_64.whl.metadata (592 bytes)\n",
      "Requirement already satisfied: setuptools>=41.0.0 in /cluster/home/eliashk/mistral/lib/python3.11/site-packages (from tensorboard) (69.0.3)\n",
      "Requirement already satisfied: six>1.9 in /cluster/home/eliashk/mistral/lib/python3.11/site-packages (from tensorboard) (1.16.0)\n",
      "Collecting tensorboard-data-server<0.8.0,>=0.7.0 (from tensorboard)\n",
      "  Using cached tensorboard_data_server-0.7.2-py3-none-manylinux_2_31_x86_64.whl.metadata (1.1 kB)\n",
      "Collecting werkzeug>=1.0.1 (from tensorboard)\n",
      "  Using cached werkzeug-3.0.1-py3-none-any.whl.metadata (4.1 kB)\n",
      "Requirement already satisfied: MarkupSafe>=2.1.1 in /cluster/home/eliashk/mistral/lib/python3.11/site-packages (from werkzeug>=1.0.1->tensorboard) (2.1.4)\n",
      "Requirement already satisfied: mpmath>=0.19 in /cluster/home/eliashk/mistral/lib/python3.11/site-packages (from sympy->torch==2.1.2) (1.3.0)\n",
      "Using cached tensorboard-2.16.2-py3-none-any.whl (5.5 MB)\n",
      "Using cached absl_py-2.1.0-py3-none-any.whl (133 kB)\n",
      "Using cached grpcio-1.62.1-cp311-cp311-manylinux_2_17_x86_64.manylinux2014_x86_64.whl (5.5 MB)\n",
      "Using cached Markdown-3.6-py3-none-any.whl (105 kB)\n",
      "Using cached protobuf-5.26.0-cp37-abi3-manylinux2014_x86_64.whl (302 kB)\n",
      "Using cached tensorboard_data_server-0.7.2-py3-none-manylinux_2_31_x86_64.whl (6.6 MB)\n",
      "Using cached werkzeug-3.0.1-py3-none-any.whl (226 kB)\n",
      "Installing collected packages: werkzeug, tensorboard-data-server, protobuf, markdown, grpcio, absl-py, tensorboard\n",
      "Successfully installed absl-py-2.1.0 grpcio-1.62.1 markdown-3.6 protobuf-5.26.0 tensorboard-2.16.2 tensorboard-data-server-0.7.2 werkzeug-3.0.1\n",
      "Collecting transformers==4.36.2\n",
      "  Using cached transformers-4.36.2-py3-none-any.whl.metadata (126 kB)\n",
      "Collecting datasets==2.16.1\n",
      "  Using cached datasets-2.16.1-py3-none-any.whl.metadata (20 kB)\n",
      "Requirement already satisfied: accelerate==0.26.1 in /cluster/home/eliashk/mistral/lib/python3.11/site-packages (0.26.1)\n",
      "Collecting evaluate==0.4.1\n",
      "  Using cached evaluate-0.4.1-py3-none-any.whl.metadata (9.4 kB)\n",
      "Requirement already satisfied: bitsandbytes==0.42.0 in /cluster/home/eliashk/mistral/lib/python3.11/site-packages (0.42.0)\n",
      "Requirement already satisfied: filelock in /cluster/home/eliashk/mistral/lib/python3.11/site-packages (from transformers==4.36.2) (3.13.1)\n",
      "Requirement already satisfied: huggingface-hub<1.0,>=0.19.3 in /cluster/home/eliashk/mistral/lib/python3.11/site-packages (from transformers==4.36.2) (0.20.3)\n",
      "Requirement already satisfied: numpy>=1.17 in /cluster/home/eliashk/mistral/lib/python3.11/site-packages (from transformers==4.36.2) (1.26.3)\n",
      "Requirement already satisfied: packaging>=20.0 in /cluster/home/eliashk/mistral/lib/python3.11/site-packages (from transformers==4.36.2) (23.1)\n",
      "Requirement already satisfied: pyyaml>=5.1 in /cluster/home/eliashk/mistral/lib/python3.11/site-packages (from transformers==4.36.2) (6.0.1)\n",
      "Requirement already satisfied: regex!=2019.12.17 in /cluster/home/eliashk/mistral/lib/python3.11/site-packages (from transformers==4.36.2) (2023.12.25)\n",
      "Requirement already satisfied: requests in /cluster/home/eliashk/mistral/lib/python3.11/site-packages (from transformers==4.36.2) (2.31.0)\n",
      "Requirement already satisfied: tokenizers<0.19,>=0.14 in /cluster/home/eliashk/mistral/lib/python3.11/site-packages (from transformers==4.36.2) (0.15.1)\n",
      "Requirement already satisfied: safetensors>=0.3.1 in /cluster/home/eliashk/mistral/lib/python3.11/site-packages (from transformers==4.36.2) (0.4.2)\n",
      "Requirement already satisfied: tqdm>=4.27 in /cluster/home/eliashk/mistral/lib/python3.11/site-packages (from transformers==4.36.2) (4.66.1)\n",
      "Requirement already satisfied: pyarrow>=8.0.0 in /cluster/home/eliashk/mistral/lib/python3.11/site-packages (from datasets==2.16.1) (15.0.2)\n",
      "Requirement already satisfied: pyarrow-hotfix in /cluster/home/eliashk/mistral/lib/python3.11/site-packages (from datasets==2.16.1) (0.6)\n",
      "Collecting dill<0.3.8,>=0.3.0 (from datasets==2.16.1)\n",
      "  Downloading dill-0.3.7-py3-none-any.whl.metadata (9.9 kB)\n",
      "Requirement already satisfied: pandas in /cluster/home/eliashk/mistral/lib/python3.11/site-packages (from datasets==2.16.1) (2.2.1)\n",
      "Requirement already satisfied: xxhash in /cluster/home/eliashk/mistral/lib/python3.11/site-packages (from datasets==2.16.1) (3.4.1)\n",
      "Requirement already satisfied: multiprocess in /cluster/home/eliashk/mistral/lib/python3.11/site-packages (from datasets==2.16.1) (0.70.16)\n",
      "Collecting fsspec<=2023.10.0,>=2023.1.0 (from fsspec[http]<=2023.10.0,>=2023.1.0->datasets==2.16.1)\n",
      "  Downloading fsspec-2023.10.0-py3-none-any.whl.metadata (6.8 kB)\n",
      "Requirement already satisfied: aiohttp in /cluster/home/eliashk/mistral/lib/python3.11/site-packages (from datasets==2.16.1) (3.9.3)\n",
      "Requirement already satisfied: psutil in /cluster/home/eliashk/mistral/lib/python3.11/site-packages (from accelerate==0.26.1) (5.9.0)\n",
      "Requirement already satisfied: torch>=1.10.0 in /cluster/home/eliashk/mistral/lib/python3.11/site-packages (from accelerate==0.26.1) (2.1.2)\n",
      "Collecting responses<0.19 (from evaluate==0.4.1)\n",
      "  Using cached responses-0.18.0-py3-none-any.whl.metadata (29 kB)\n",
      "Requirement already satisfied: scipy in /cluster/home/eliashk/mistral/lib/python3.11/site-packages (from bitsandbytes==0.42.0) (1.12.0)\n",
      "Requirement already satisfied: aiosignal>=1.1.2 in /cluster/home/eliashk/mistral/lib/python3.11/site-packages (from aiohttp->datasets==2.16.1) (1.3.1)\n",
      "Requirement already satisfied: attrs>=17.3.0 in /cluster/home/eliashk/mistral/lib/python3.11/site-packages (from aiohttp->datasets==2.16.1) (23.2.0)\n",
      "Requirement already satisfied: frozenlist>=1.1.1 in /cluster/home/eliashk/mistral/lib/python3.11/site-packages (from aiohttp->datasets==2.16.1) (1.4.1)\n",
      "Requirement already satisfied: multidict<7.0,>=4.5 in /cluster/home/eliashk/mistral/lib/python3.11/site-packages (from aiohttp->datasets==2.16.1) (6.0.5)\n",
      "Requirement already satisfied: yarl<2.0,>=1.0 in /cluster/home/eliashk/mistral/lib/python3.11/site-packages (from aiohttp->datasets==2.16.1) (1.9.4)\n",
      "Requirement already satisfied: typing-extensions>=3.7.4.3 in /cluster/home/eliashk/mistral/lib/python3.11/site-packages (from huggingface-hub<1.0,>=0.19.3->transformers==4.36.2) (4.9.0)\n",
      "Requirement already satisfied: charset-normalizer<4,>=2 in /cluster/home/eliashk/mistral/lib/python3.11/site-packages (from requests->transformers==4.36.2) (3.3.2)\n",
      "Requirement already satisfied: idna<4,>=2.5 in /cluster/home/eliashk/mistral/lib/python3.11/site-packages (from requests->transformers==4.36.2) (3.6)\n",
      "Requirement already satisfied: urllib3<3,>=1.21.1 in /cluster/home/eliashk/mistral/lib/python3.11/site-packages (from requests->transformers==4.36.2) (2.1.0)\n",
      "Requirement already satisfied: certifi>=2017.4.17 in /cluster/home/eliashk/mistral/lib/python3.11/site-packages (from requests->transformers==4.36.2) (2023.11.17)\n",
      "Requirement already satisfied: sympy in /cluster/home/eliashk/mistral/lib/python3.11/site-packages (from torch>=1.10.0->accelerate==0.26.1) (1.12)\n",
      "Requirement already satisfied: networkx in /cluster/home/eliashk/mistral/lib/python3.11/site-packages (from torch>=1.10.0->accelerate==0.26.1) (3.2.1)\n",
      "Requirement already satisfied: jinja2 in /cluster/home/eliashk/mistral/lib/python3.11/site-packages (from torch>=1.10.0->accelerate==0.26.1) (3.1.3)\n",
      "Requirement already satisfied: nvidia-cuda-nvrtc-cu12==12.1.105 in /cluster/home/eliashk/mistral/lib/python3.11/site-packages (from torch>=1.10.0->accelerate==0.26.1) (12.1.105)\n",
      "Requirement already satisfied: nvidia-cuda-runtime-cu12==12.1.105 in /cluster/home/eliashk/mistral/lib/python3.11/site-packages (from torch>=1.10.0->accelerate==0.26.1) (12.1.105)\n",
      "Requirement already satisfied: nvidia-cuda-cupti-cu12==12.1.105 in /cluster/home/eliashk/mistral/lib/python3.11/site-packages (from torch>=1.10.0->accelerate==0.26.1) (12.1.105)\n",
      "Requirement already satisfied: nvidia-cudnn-cu12==8.9.2.26 in /cluster/home/eliashk/mistral/lib/python3.11/site-packages (from torch>=1.10.0->accelerate==0.26.1) (8.9.2.26)\n",
      "Requirement already satisfied: nvidia-cublas-cu12==12.1.3.1 in /cluster/home/eliashk/mistral/lib/python3.11/site-packages (from torch>=1.10.0->accelerate==0.26.1) (12.1.3.1)\n",
      "Requirement already satisfied: nvidia-cufft-cu12==11.0.2.54 in /cluster/home/eliashk/mistral/lib/python3.11/site-packages (from torch>=1.10.0->accelerate==0.26.1) (11.0.2.54)\n",
      "Requirement already satisfied: nvidia-curand-cu12==10.3.2.106 in /cluster/home/eliashk/mistral/lib/python3.11/site-packages (from torch>=1.10.0->accelerate==0.26.1) (10.3.2.106)\n",
      "Requirement already satisfied: nvidia-cusolver-cu12==11.4.5.107 in /cluster/home/eliashk/mistral/lib/python3.11/site-packages (from torch>=1.10.0->accelerate==0.26.1) (11.4.5.107)\n",
      "Requirement already satisfied: nvidia-cusparse-cu12==12.1.0.106 in /cluster/home/eliashk/mistral/lib/python3.11/site-packages (from torch>=1.10.0->accelerate==0.26.1) (12.1.0.106)\n",
      "Requirement already satisfied: nvidia-nccl-cu12==2.18.1 in /cluster/home/eliashk/mistral/lib/python3.11/site-packages (from torch>=1.10.0->accelerate==0.26.1) (2.18.1)\n",
      "Requirement already satisfied: nvidia-nvtx-cu12==12.1.105 in /cluster/home/eliashk/mistral/lib/python3.11/site-packages (from torch>=1.10.0->accelerate==0.26.1) (12.1.105)\n",
      "Requirement already satisfied: triton==2.1.0 in /cluster/home/eliashk/mistral/lib/python3.11/site-packages (from torch>=1.10.0->accelerate==0.26.1) (2.1.0)\n",
      "Requirement already satisfied: nvidia-nvjitlink-cu12 in /cluster/home/eliashk/mistral/lib/python3.11/site-packages (from nvidia-cusolver-cu12==11.4.5.107->torch>=1.10.0->accelerate==0.26.1) (12.3.101)\n",
      "INFO: pip is looking at multiple versions of multiprocess to determine which version is compatible with other requirements. This could take a while.\n",
      "Collecting multiprocess (from datasets==2.16.1)\n",
      "  Downloading multiprocess-0.70.15-py311-none-any.whl.metadata (7.2 kB)\n",
      "Requirement already satisfied: python-dateutil>=2.8.2 in /cluster/home/eliashk/mistral/lib/python3.11/site-packages (from pandas->datasets==2.16.1) (2.8.2)\n",
      "Requirement already satisfied: pytz>=2020.1 in /cluster/home/eliashk/mistral/lib/python3.11/site-packages (from pandas->datasets==2.16.1) (2024.1)\n",
      "Requirement already satisfied: tzdata>=2022.7 in /cluster/home/eliashk/mistral/lib/python3.11/site-packages (from pandas->datasets==2.16.1) (2024.1)\n",
      "Requirement already satisfied: six>=1.5 in /cluster/home/eliashk/mistral/lib/python3.11/site-packages (from python-dateutil>=2.8.2->pandas->datasets==2.16.1) (1.16.0)\n",
      "Requirement already satisfied: MarkupSafe>=2.0 in /cluster/home/eliashk/mistral/lib/python3.11/site-packages (from jinja2->torch>=1.10.0->accelerate==0.26.1) (2.1.4)\n",
      "Requirement already satisfied: mpmath>=0.19 in /cluster/home/eliashk/mistral/lib/python3.11/site-packages (from sympy->torch>=1.10.0->accelerate==0.26.1) (1.3.0)\n",
      "Using cached transformers-4.36.2-py3-none-any.whl (8.2 MB)\n",
      "Using cached datasets-2.16.1-py3-none-any.whl (507 kB)\n",
      "Using cached evaluate-0.4.1-py3-none-any.whl (84 kB)\n",
      "Downloading dill-0.3.7-py3-none-any.whl (115 kB)\n",
      "\u001b[2K   \u001b[90m━━━━━━━━━━━━━━━━━━━━━━━━━━━━━━━━━━━━━━━━\u001b[0m \u001b[32m115.3/115.3 kB\u001b[0m \u001b[31m2.5 MB/s\u001b[0m eta \u001b[36m0:00:00\u001b[0m00:01\u001b[0m\n",
      "\u001b[?25hDownloading fsspec-2023.10.0-py3-none-any.whl (166 kB)\n",
      "\u001b[2K   \u001b[90m━━━━━━━━━━━━━━━━━━━━━━━━━━━━━━━━━━━━━━━━\u001b[0m \u001b[32m166.4/166.4 kB\u001b[0m \u001b[31m16.0 MB/s\u001b[0m eta \u001b[36m0:00:00\u001b[0m\n",
      "\u001b[?25hUsing cached responses-0.18.0-py3-none-any.whl (38 kB)\n",
      "Downloading multiprocess-0.70.15-py311-none-any.whl (135 kB)\n",
      "\u001b[2K   \u001b[90m━━━━━━━━━━━━━━━━━━━━━━━━━━━━━━━━━━━━━━━━\u001b[0m \u001b[32m135.4/135.4 kB\u001b[0m \u001b[31m12.9 MB/s\u001b[0m eta \u001b[36m0:00:00\u001b[0m\n",
      "\u001b[?25hInstalling collected packages: fsspec, dill, responses, multiprocess, transformers, datasets, evaluate\n",
      "  Attempting uninstall: fsspec\n",
      "    Found existing installation: fsspec 2023.12.2\n",
      "    Uninstalling fsspec-2023.12.2:\n",
      "      Successfully uninstalled fsspec-2023.12.2\n",
      "  Attempting uninstall: dill\n",
      "    Found existing installation: dill 0.3.8\n",
      "    Uninstalling dill-0.3.8:\n",
      "      Successfully uninstalled dill-0.3.8\n",
      "  Attempting uninstall: multiprocess\n",
      "    Found existing installation: multiprocess 0.70.16\n",
      "    Uninstalling multiprocess-0.70.16:\n",
      "      Successfully uninstalled multiprocess-0.70.16\n",
      "  Attempting uninstall: transformers\n",
      "    Found existing installation: transformers 4.37.0\n",
      "    Uninstalling transformers-4.37.0:\n",
      "      Successfully uninstalled transformers-4.37.0\n",
      "  Attempting uninstall: datasets\n",
      "    Found existing installation: datasets 2.18.0\n",
      "    Uninstalling datasets-2.18.0:\n",
      "      Successfully uninstalled datasets-2.18.0\n",
      "Successfully installed datasets-2.16.1 dill-0.3.7 evaluate-0.4.1 fsspec-2023.10.0 multiprocess-0.70.15 responses-0.18.0 transformers-4.36.2\n",
      "Collecting git+https://github.com/huggingface/trl@a3c5b7178ac4f65569975efadc97db2f3749c65e\n",
      "  Cloning https://github.com/huggingface/trl (to revision a3c5b7178ac4f65569975efadc97db2f3749c65e) to /tmp/pip-req-build-qijqcsvr\n",
      "  Running command git clone --filter=blob:none --quiet https://github.com/huggingface/trl /tmp/pip-req-build-qijqcsvr\n",
      "  Running command git rev-parse -q --verify 'sha^a3c5b7178ac4f65569975efadc97db2f3749c65e'\n",
      "  Running command git fetch -q https://github.com/huggingface/trl a3c5b7178ac4f65569975efadc97db2f3749c65e\n",
      "  Running command git checkout -q a3c5b7178ac4f65569975efadc97db2f3749c65e\n",
      "  Resolved https://github.com/huggingface/trl to commit a3c5b7178ac4f65569975efadc97db2f3749c65e\n",
      "  Installing build dependencies ... \u001b[?25ldone\n",
      "\u001b[?25h  Getting requirements to build wheel ... \u001b[?25ldone\n",
      "\u001b[?25h  Preparing metadata (pyproject.toml) ... \u001b[?25ldone\n",
      "\u001b[?25hRequirement already satisfied: torch>=1.4.0 in /cluster/home/eliashk/mistral/lib/python3.11/site-packages (from trl==0.7.11.dev0) (2.1.2)\n",
      "Requirement already satisfied: transformers>=4.31.0 in /cluster/home/eliashk/mistral/lib/python3.11/site-packages (from trl==0.7.11.dev0) (4.36.2)\n",
      "Requirement already satisfied: numpy>=1.18.2 in /cluster/home/eliashk/mistral/lib/python3.11/site-packages (from trl==0.7.11.dev0) (1.26.3)\n",
      "Requirement already satisfied: accelerate in /cluster/home/eliashk/mistral/lib/python3.11/site-packages (from trl==0.7.11.dev0) (0.26.1)\n",
      "Requirement already satisfied: datasets in /cluster/home/eliashk/mistral/lib/python3.11/site-packages (from trl==0.7.11.dev0) (2.16.1)\n",
      "Collecting tyro>=0.5.11 (from trl==0.7.11.dev0)\n",
      "  Using cached tyro-0.7.3-py3-none-any.whl.metadata (7.7 kB)\n",
      "Requirement already satisfied: filelock in /cluster/home/eliashk/mistral/lib/python3.11/site-packages (from torch>=1.4.0->trl==0.7.11.dev0) (3.13.1)\n",
      "Requirement already satisfied: typing-extensions in /cluster/home/eliashk/mistral/lib/python3.11/site-packages (from torch>=1.4.0->trl==0.7.11.dev0) (4.9.0)\n",
      "Requirement already satisfied: sympy in /cluster/home/eliashk/mistral/lib/python3.11/site-packages (from torch>=1.4.0->trl==0.7.11.dev0) (1.12)\n",
      "Requirement already satisfied: networkx in /cluster/home/eliashk/mistral/lib/python3.11/site-packages (from torch>=1.4.0->trl==0.7.11.dev0) (3.2.1)\n",
      "Requirement already satisfied: jinja2 in /cluster/home/eliashk/mistral/lib/python3.11/site-packages (from torch>=1.4.0->trl==0.7.11.dev0) (3.1.3)\n",
      "Requirement already satisfied: fsspec in /cluster/home/eliashk/mistral/lib/python3.11/site-packages (from torch>=1.4.0->trl==0.7.11.dev0) (2023.10.0)\n",
      "Requirement already satisfied: nvidia-cuda-nvrtc-cu12==12.1.105 in /cluster/home/eliashk/mistral/lib/python3.11/site-packages (from torch>=1.4.0->trl==0.7.11.dev0) (12.1.105)\n",
      "Requirement already satisfied: nvidia-cuda-runtime-cu12==12.1.105 in /cluster/home/eliashk/mistral/lib/python3.11/site-packages (from torch>=1.4.0->trl==0.7.11.dev0) (12.1.105)\n",
      "Requirement already satisfied: nvidia-cuda-cupti-cu12==12.1.105 in /cluster/home/eliashk/mistral/lib/python3.11/site-packages (from torch>=1.4.0->trl==0.7.11.dev0) (12.1.105)\n",
      "Requirement already satisfied: nvidia-cudnn-cu12==8.9.2.26 in /cluster/home/eliashk/mistral/lib/python3.11/site-packages (from torch>=1.4.0->trl==0.7.11.dev0) (8.9.2.26)\n",
      "Requirement already satisfied: nvidia-cublas-cu12==12.1.3.1 in /cluster/home/eliashk/mistral/lib/python3.11/site-packages (from torch>=1.4.0->trl==0.7.11.dev0) (12.1.3.1)\n",
      "Requirement already satisfied: nvidia-cufft-cu12==11.0.2.54 in /cluster/home/eliashk/mistral/lib/python3.11/site-packages (from torch>=1.4.0->trl==0.7.11.dev0) (11.0.2.54)\n",
      "Requirement already satisfied: nvidia-curand-cu12==10.3.2.106 in /cluster/home/eliashk/mistral/lib/python3.11/site-packages (from torch>=1.4.0->trl==0.7.11.dev0) (10.3.2.106)\n",
      "Requirement already satisfied: nvidia-cusolver-cu12==11.4.5.107 in /cluster/home/eliashk/mistral/lib/python3.11/site-packages (from torch>=1.4.0->trl==0.7.11.dev0) (11.4.5.107)\n",
      "Requirement already satisfied: nvidia-cusparse-cu12==12.1.0.106 in /cluster/home/eliashk/mistral/lib/python3.11/site-packages (from torch>=1.4.0->trl==0.7.11.dev0) (12.1.0.106)\n",
      "Requirement already satisfied: nvidia-nccl-cu12==2.18.1 in /cluster/home/eliashk/mistral/lib/python3.11/site-packages (from torch>=1.4.0->trl==0.7.11.dev0) (2.18.1)\n",
      "Requirement already satisfied: nvidia-nvtx-cu12==12.1.105 in /cluster/home/eliashk/mistral/lib/python3.11/site-packages (from torch>=1.4.0->trl==0.7.11.dev0) (12.1.105)\n",
      "Requirement already satisfied: triton==2.1.0 in /cluster/home/eliashk/mistral/lib/python3.11/site-packages (from torch>=1.4.0->trl==0.7.11.dev0) (2.1.0)\n",
      "Requirement already satisfied: nvidia-nvjitlink-cu12 in /cluster/home/eliashk/mistral/lib/python3.11/site-packages (from nvidia-cusolver-cu12==11.4.5.107->torch>=1.4.0->trl==0.7.11.dev0) (12.3.101)\n",
      "Requirement already satisfied: huggingface-hub<1.0,>=0.19.3 in /cluster/home/eliashk/mistral/lib/python3.11/site-packages (from transformers>=4.31.0->trl==0.7.11.dev0) (0.20.3)\n",
      "Requirement already satisfied: packaging>=20.0 in /cluster/home/eliashk/mistral/lib/python3.11/site-packages (from transformers>=4.31.0->trl==0.7.11.dev0) (23.1)\n",
      "Requirement already satisfied: pyyaml>=5.1 in /cluster/home/eliashk/mistral/lib/python3.11/site-packages (from transformers>=4.31.0->trl==0.7.11.dev0) (6.0.1)\n",
      "Requirement already satisfied: regex!=2019.12.17 in /cluster/home/eliashk/mistral/lib/python3.11/site-packages (from transformers>=4.31.0->trl==0.7.11.dev0) (2023.12.25)\n",
      "Requirement already satisfied: requests in /cluster/home/eliashk/mistral/lib/python3.11/site-packages (from transformers>=4.31.0->trl==0.7.11.dev0) (2.31.0)\n",
      "Requirement already satisfied: tokenizers<0.19,>=0.14 in /cluster/home/eliashk/mistral/lib/python3.11/site-packages (from transformers>=4.31.0->trl==0.7.11.dev0) (0.15.1)\n",
      "Requirement already satisfied: safetensors>=0.3.1 in /cluster/home/eliashk/mistral/lib/python3.11/site-packages (from transformers>=4.31.0->trl==0.7.11.dev0) (0.4.2)\n",
      "Requirement already satisfied: tqdm>=4.27 in /cluster/home/eliashk/mistral/lib/python3.11/site-packages (from transformers>=4.31.0->trl==0.7.11.dev0) (4.66.1)\n",
      "Collecting docstring-parser>=0.14.1 (from tyro>=0.5.11->trl==0.7.11.dev0)\n",
      "  Using cached docstring_parser-0.16-py3-none-any.whl.metadata (3.0 kB)\n",
      "Collecting rich>=11.1.0 (from tyro>=0.5.11->trl==0.7.11.dev0)\n",
      "  Using cached rich-13.7.1-py3-none-any.whl.metadata (18 kB)\n",
      "Collecting shtab>=1.5.6 (from tyro>=0.5.11->trl==0.7.11.dev0)\n",
      "  Using cached shtab-1.7.1-py3-none-any.whl.metadata (7.3 kB)\n",
      "Requirement already satisfied: psutil in /cluster/home/eliashk/mistral/lib/python3.11/site-packages (from accelerate->trl==0.7.11.dev0) (5.9.0)\n",
      "Requirement already satisfied: pyarrow>=8.0.0 in /cluster/home/eliashk/mistral/lib/python3.11/site-packages (from datasets->trl==0.7.11.dev0) (15.0.2)\n",
      "Requirement already satisfied: pyarrow-hotfix in /cluster/home/eliashk/mistral/lib/python3.11/site-packages (from datasets->trl==0.7.11.dev0) (0.6)\n",
      "Requirement already satisfied: dill<0.3.8,>=0.3.0 in /cluster/home/eliashk/mistral/lib/python3.11/site-packages (from datasets->trl==0.7.11.dev0) (0.3.7)\n",
      "Requirement already satisfied: pandas in /cluster/home/eliashk/mistral/lib/python3.11/site-packages (from datasets->trl==0.7.11.dev0) (2.2.1)\n",
      "Requirement already satisfied: xxhash in /cluster/home/eliashk/mistral/lib/python3.11/site-packages (from datasets->trl==0.7.11.dev0) (3.4.1)\n",
      "Requirement already satisfied: multiprocess in /cluster/home/eliashk/mistral/lib/python3.11/site-packages (from datasets->trl==0.7.11.dev0) (0.70.15)\n",
      "Requirement already satisfied: aiohttp in /cluster/home/eliashk/mistral/lib/python3.11/site-packages (from datasets->trl==0.7.11.dev0) (3.9.3)\n",
      "Requirement already satisfied: aiosignal>=1.1.2 in /cluster/home/eliashk/mistral/lib/python3.11/site-packages (from aiohttp->datasets->trl==0.7.11.dev0) (1.3.1)\n",
      "Requirement already satisfied: attrs>=17.3.0 in /cluster/home/eliashk/mistral/lib/python3.11/site-packages (from aiohttp->datasets->trl==0.7.11.dev0) (23.2.0)\n",
      "Requirement already satisfied: frozenlist>=1.1.1 in /cluster/home/eliashk/mistral/lib/python3.11/site-packages (from aiohttp->datasets->trl==0.7.11.dev0) (1.4.1)\n",
      "Requirement already satisfied: multidict<7.0,>=4.5 in /cluster/home/eliashk/mistral/lib/python3.11/site-packages (from aiohttp->datasets->trl==0.7.11.dev0) (6.0.5)\n",
      "Requirement already satisfied: yarl<2.0,>=1.0 in /cluster/home/eliashk/mistral/lib/python3.11/site-packages (from aiohttp->datasets->trl==0.7.11.dev0) (1.9.4)\n",
      "Requirement already satisfied: charset-normalizer<4,>=2 in /cluster/home/eliashk/mistral/lib/python3.11/site-packages (from requests->transformers>=4.31.0->trl==0.7.11.dev0) (3.3.2)\n",
      "Requirement already satisfied: idna<4,>=2.5 in /cluster/home/eliashk/mistral/lib/python3.11/site-packages (from requests->transformers>=4.31.0->trl==0.7.11.dev0) (3.6)\n",
      "Requirement already satisfied: urllib3<3,>=1.21.1 in /cluster/home/eliashk/mistral/lib/python3.11/site-packages (from requests->transformers>=4.31.0->trl==0.7.11.dev0) (2.1.0)\n",
      "Requirement already satisfied: certifi>=2017.4.17 in /cluster/home/eliashk/mistral/lib/python3.11/site-packages (from requests->transformers>=4.31.0->trl==0.7.11.dev0) (2023.11.17)\n",
      "Collecting markdown-it-py>=2.2.0 (from rich>=11.1.0->tyro>=0.5.11->trl==0.7.11.dev0)\n",
      "  Using cached markdown_it_py-3.0.0-py3-none-any.whl.metadata (6.9 kB)\n",
      "Requirement already satisfied: pygments<3.0.0,>=2.13.0 in /cluster/home/eliashk/mistral/lib/python3.11/site-packages (from rich>=11.1.0->tyro>=0.5.11->trl==0.7.11.dev0) (2.15.1)\n",
      "Requirement already satisfied: MarkupSafe>=2.0 in /cluster/home/eliashk/mistral/lib/python3.11/site-packages (from jinja2->torch>=1.4.0->trl==0.7.11.dev0) (2.1.4)\n",
      "Requirement already satisfied: python-dateutil>=2.8.2 in /cluster/home/eliashk/mistral/lib/python3.11/site-packages (from pandas->datasets->trl==0.7.11.dev0) (2.8.2)\n",
      "Requirement already satisfied: pytz>=2020.1 in /cluster/home/eliashk/mistral/lib/python3.11/site-packages (from pandas->datasets->trl==0.7.11.dev0) (2024.1)\n",
      "Requirement already satisfied: tzdata>=2022.7 in /cluster/home/eliashk/mistral/lib/python3.11/site-packages (from pandas->datasets->trl==0.7.11.dev0) (2024.1)\n",
      "Requirement already satisfied: mpmath>=0.19 in /cluster/home/eliashk/mistral/lib/python3.11/site-packages (from sympy->torch>=1.4.0->trl==0.7.11.dev0) (1.3.0)\n",
      "Collecting mdurl~=0.1 (from markdown-it-py>=2.2.0->rich>=11.1.0->tyro>=0.5.11->trl==0.7.11.dev0)\n",
      "  Using cached mdurl-0.1.2-py3-none-any.whl.metadata (1.6 kB)\n",
      "Requirement already satisfied: six>=1.5 in /cluster/home/eliashk/mistral/lib/python3.11/site-packages (from python-dateutil>=2.8.2->pandas->datasets->trl==0.7.11.dev0) (1.16.0)\n",
      "Using cached tyro-0.7.3-py3-none-any.whl (79 kB)\n",
      "Using cached docstring_parser-0.16-py3-none-any.whl (36 kB)\n",
      "Using cached rich-13.7.1-py3-none-any.whl (240 kB)\n",
      "Using cached shtab-1.7.1-py3-none-any.whl (14 kB)\n",
      "Using cached markdown_it_py-3.0.0-py3-none-any.whl (87 kB)\n",
      "Using cached mdurl-0.1.2-py3-none-any.whl (10.0 kB)\n",
      "Building wheels for collected packages: trl\n",
      "  Building wheel for trl (pyproject.toml) ... \u001b[?25ldone\n",
      "\u001b[?25h  Created wheel for trl: filename=trl-0.7.11.dev0-py3-none-any.whl size=151090 sha256=bd82760737f1aba392c72558f27c39125eaa689ed4e48143b2abba4e95c533d7\n",
      "  Stored in directory: /cluster/home/eliashk/.cache/pip/wheels/b5/82/59/b7697a42689413e91d852fb5a1b3823c30adaab65d4d08dbcd\n",
      "Successfully built trl\n",
      "Installing collected packages: shtab, mdurl, docstring-parser, markdown-it-py, rich, tyro, trl\n",
      "Successfully installed docstring-parser-0.16 markdown-it-py-3.0.0 mdurl-0.1.2 rich-13.7.1 shtab-1.7.1 trl-0.7.11.dev0 tyro-0.7.3\n",
      "Collecting git+https://github.com/huggingface/peft@4a1559582281fc3c9283892caea8ccef1d6f5a4f\n",
      "  Cloning https://github.com/huggingface/peft (to revision 4a1559582281fc3c9283892caea8ccef1d6f5a4f) to /tmp/pip-req-build-anrlnd5p\n",
      "  Running command git clone --filter=blob:none --quiet https://github.com/huggingface/peft /tmp/pip-req-build-anrlnd5p\n",
      "  Running command git rev-parse -q --verify 'sha^4a1559582281fc3c9283892caea8ccef1d6f5a4f'\n",
      "  Running command git fetch -q https://github.com/huggingface/peft 4a1559582281fc3c9283892caea8ccef1d6f5a4f\n",
      "  Running command git checkout -q 4a1559582281fc3c9283892caea8ccef1d6f5a4f\n",
      "  Resolved https://github.com/huggingface/peft to commit 4a1559582281fc3c9283892caea8ccef1d6f5a4f\n",
      "  Installing build dependencies ... \u001b[?25ldone\n",
      "\u001b[?25h  Getting requirements to build wheel ... \u001b[?25ldone\n",
      "\u001b[?25h  Preparing metadata (pyproject.toml) ... \u001b[?25ldone\n",
      "\u001b[?25hRequirement already satisfied: numpy>=1.17 in /cluster/home/eliashk/mistral/lib/python3.11/site-packages (from peft==0.7.2.dev0) (1.26.3)\n",
      "Requirement already satisfied: packaging>=20.0 in /cluster/home/eliashk/mistral/lib/python3.11/site-packages (from peft==0.7.2.dev0) (23.1)\n",
      "Requirement already satisfied: psutil in /cluster/home/eliashk/mistral/lib/python3.11/site-packages (from peft==0.7.2.dev0) (5.9.0)\n",
      "Requirement already satisfied: pyyaml in /cluster/home/eliashk/mistral/lib/python3.11/site-packages (from peft==0.7.2.dev0) (6.0.1)\n",
      "Requirement already satisfied: torch>=1.13.0 in /cluster/home/eliashk/mistral/lib/python3.11/site-packages (from peft==0.7.2.dev0) (2.1.2)\n",
      "Requirement already satisfied: transformers in /cluster/home/eliashk/mistral/lib/python3.11/site-packages (from peft==0.7.2.dev0) (4.36.2)\n",
      "Requirement already satisfied: tqdm in /cluster/home/eliashk/mistral/lib/python3.11/site-packages (from peft==0.7.2.dev0) (4.66.1)\n",
      "Requirement already satisfied: accelerate>=0.21.0 in /cluster/home/eliashk/mistral/lib/python3.11/site-packages (from peft==0.7.2.dev0) (0.26.1)\n",
      "Requirement already satisfied: safetensors in /cluster/home/eliashk/mistral/lib/python3.11/site-packages (from peft==0.7.2.dev0) (0.4.2)\n",
      "Requirement already satisfied: huggingface-hub>=0.17.0 in /cluster/home/eliashk/mistral/lib/python3.11/site-packages (from peft==0.7.2.dev0) (0.20.3)\n",
      "Requirement already satisfied: filelock in /cluster/home/eliashk/mistral/lib/python3.11/site-packages (from huggingface-hub>=0.17.0->peft==0.7.2.dev0) (3.13.1)\n",
      "Requirement already satisfied: fsspec>=2023.5.0 in /cluster/home/eliashk/mistral/lib/python3.11/site-packages (from huggingface-hub>=0.17.0->peft==0.7.2.dev0) (2023.10.0)\n",
      "Requirement already satisfied: requests in /cluster/home/eliashk/mistral/lib/python3.11/site-packages (from huggingface-hub>=0.17.0->peft==0.7.2.dev0) (2.31.0)\n",
      "Requirement already satisfied: typing-extensions>=3.7.4.3 in /cluster/home/eliashk/mistral/lib/python3.11/site-packages (from huggingface-hub>=0.17.0->peft==0.7.2.dev0) (4.9.0)\n",
      "Requirement already satisfied: sympy in /cluster/home/eliashk/mistral/lib/python3.11/site-packages (from torch>=1.13.0->peft==0.7.2.dev0) (1.12)\n",
      "Requirement already satisfied: networkx in /cluster/home/eliashk/mistral/lib/python3.11/site-packages (from torch>=1.13.0->peft==0.7.2.dev0) (3.2.1)\n",
      "Requirement already satisfied: jinja2 in /cluster/home/eliashk/mistral/lib/python3.11/site-packages (from torch>=1.13.0->peft==0.7.2.dev0) (3.1.3)\n",
      "Requirement already satisfied: nvidia-cuda-nvrtc-cu12==12.1.105 in /cluster/home/eliashk/mistral/lib/python3.11/site-packages (from torch>=1.13.0->peft==0.7.2.dev0) (12.1.105)\n",
      "Requirement already satisfied: nvidia-cuda-runtime-cu12==12.1.105 in /cluster/home/eliashk/mistral/lib/python3.11/site-packages (from torch>=1.13.0->peft==0.7.2.dev0) (12.1.105)\n",
      "Requirement already satisfied: nvidia-cuda-cupti-cu12==12.1.105 in /cluster/home/eliashk/mistral/lib/python3.11/site-packages (from torch>=1.13.0->peft==0.7.2.dev0) (12.1.105)\n",
      "Requirement already satisfied: nvidia-cudnn-cu12==8.9.2.26 in /cluster/home/eliashk/mistral/lib/python3.11/site-packages (from torch>=1.13.0->peft==0.7.2.dev0) (8.9.2.26)\n",
      "Requirement already satisfied: nvidia-cublas-cu12==12.1.3.1 in /cluster/home/eliashk/mistral/lib/python3.11/site-packages (from torch>=1.13.0->peft==0.7.2.dev0) (12.1.3.1)\n",
      "Requirement already satisfied: nvidia-cufft-cu12==11.0.2.54 in /cluster/home/eliashk/mistral/lib/python3.11/site-packages (from torch>=1.13.0->peft==0.7.2.dev0) (11.0.2.54)\n",
      "Requirement already satisfied: nvidia-curand-cu12==10.3.2.106 in /cluster/home/eliashk/mistral/lib/python3.11/site-packages (from torch>=1.13.0->peft==0.7.2.dev0) (10.3.2.106)\n",
      "Requirement already satisfied: nvidia-cusolver-cu12==11.4.5.107 in /cluster/home/eliashk/mistral/lib/python3.11/site-packages (from torch>=1.13.0->peft==0.7.2.dev0) (11.4.5.107)\n",
      "Requirement already satisfied: nvidia-cusparse-cu12==12.1.0.106 in /cluster/home/eliashk/mistral/lib/python3.11/site-packages (from torch>=1.13.0->peft==0.7.2.dev0) (12.1.0.106)\n",
      "Requirement already satisfied: nvidia-nccl-cu12==2.18.1 in /cluster/home/eliashk/mistral/lib/python3.11/site-packages (from torch>=1.13.0->peft==0.7.2.dev0) (2.18.1)\n",
      "Requirement already satisfied: nvidia-nvtx-cu12==12.1.105 in /cluster/home/eliashk/mistral/lib/python3.11/site-packages (from torch>=1.13.0->peft==0.7.2.dev0) (12.1.105)\n",
      "Requirement already satisfied: triton==2.1.0 in /cluster/home/eliashk/mistral/lib/python3.11/site-packages (from torch>=1.13.0->peft==0.7.2.dev0) (2.1.0)\n",
      "Requirement already satisfied: nvidia-nvjitlink-cu12 in /cluster/home/eliashk/mistral/lib/python3.11/site-packages (from nvidia-cusolver-cu12==11.4.5.107->torch>=1.13.0->peft==0.7.2.dev0) (12.3.101)\n",
      "Requirement already satisfied: regex!=2019.12.17 in /cluster/home/eliashk/mistral/lib/python3.11/site-packages (from transformers->peft==0.7.2.dev0) (2023.12.25)\n",
      "Requirement already satisfied: tokenizers<0.19,>=0.14 in /cluster/home/eliashk/mistral/lib/python3.11/site-packages (from transformers->peft==0.7.2.dev0) (0.15.1)\n",
      "Requirement already satisfied: MarkupSafe>=2.0 in /cluster/home/eliashk/mistral/lib/python3.11/site-packages (from jinja2->torch>=1.13.0->peft==0.7.2.dev0) (2.1.4)\n",
      "Requirement already satisfied: charset-normalizer<4,>=2 in /cluster/home/eliashk/mistral/lib/python3.11/site-packages (from requests->huggingface-hub>=0.17.0->peft==0.7.2.dev0) (3.3.2)\n",
      "Requirement already satisfied: idna<4,>=2.5 in /cluster/home/eliashk/mistral/lib/python3.11/site-packages (from requests->huggingface-hub>=0.17.0->peft==0.7.2.dev0) (3.6)\n",
      "Requirement already satisfied: urllib3<3,>=1.21.1 in /cluster/home/eliashk/mistral/lib/python3.11/site-packages (from requests->huggingface-hub>=0.17.0->peft==0.7.2.dev0) (2.1.0)\n",
      "Requirement already satisfied: certifi>=2017.4.17 in /cluster/home/eliashk/mistral/lib/python3.11/site-packages (from requests->huggingface-hub>=0.17.0->peft==0.7.2.dev0) (2023.11.17)\n",
      "Requirement already satisfied: mpmath>=0.19 in /cluster/home/eliashk/mistral/lib/python3.11/site-packages (from sympy->torch>=1.13.0->peft==0.7.2.dev0) (1.3.0)\n",
      "Building wheels for collected packages: peft\n",
      "  Building wheel for peft (pyproject.toml) ... \u001b[?25ldone\n",
      "\u001b[?25h  Created wheel for peft: filename=peft-0.7.2.dev0-py3-none-any.whl size=183144 sha256=c64813fb050f81de0109e248ede2dff4762b6c24bddc127a34275fa21cfa75d5\n",
      "  Stored in directory: /cluster/home/eliashk/.cache/pip/wheels/82/ac/91/c24dcfe021e71d12c41d88044e5a106f72aa1c2baeec3b5ace\n",
      "Successfully built peft\n",
      "Installing collected packages: peft\n",
      "Successfully installed peft-0.7.2.dev0\n"
     ]
    }
   ],
   "source": [
    "!pip install \"torch==2.1.2\" tensorboard\n",
    "!pip install  --upgrade \\\n",
    "  \"transformers==4.36.2\" \\\n",
    "  \"datasets==2.16.1\" \\\n",
    "  \"accelerate==0.26.1\" \\\n",
    "  \"evaluate==0.4.1\" \\\n",
    "  \"bitsandbytes==0.42.0\" \\\n",
    "\n",
    "!pip install git+https://github.com/huggingface/trl@a3c5b7178ac4f65569975efadc97db2f3749c65e --upgrade\n",
    "!pip install git+https://github.com/huggingface/peft@4a1559582281fc3c9283892caea8ccef1d6f5a4f --upgrade\n"
   ]
  },
  {
   "cell_type": "markdown",
   "metadata": {},
   "source": [
    "### Setup flash attention"
   ]
  },
  {
   "cell_type": "code",
   "execution_count": 4,
   "metadata": {},
   "outputs": [
    {
     "name": "stdout",
     "output_type": "stream",
     "text": [
      "Requirement already satisfied: ninja in /cluster/home/eliashk/mistral/lib/python3.11/site-packages (1.11.1.1)\n",
      "Requirement already satisfied: packaging in /cluster/home/eliashk/mistral/lib/python3.11/site-packages (23.1)\n",
      "Requirement already satisfied: flash-attn in /cluster/home/eliashk/mistral/lib/python3.11/site-packages (2.5.0)\n",
      "Requirement already satisfied: torch in /cluster/home/eliashk/mistral/lib/python3.11/site-packages (from flash-attn) (2.1.2)\n",
      "Requirement already satisfied: einops in /cluster/home/eliashk/mistral/lib/python3.11/site-packages (from flash-attn) (0.7.0)\n",
      "Requirement already satisfied: packaging in /cluster/home/eliashk/mistral/lib/python3.11/site-packages (from flash-attn) (23.1)\n",
      "Requirement already satisfied: ninja in /cluster/home/eliashk/mistral/lib/python3.11/site-packages (from flash-attn) (1.11.1.1)\n",
      "Requirement already satisfied: filelock in /cluster/home/eliashk/mistral/lib/python3.11/site-packages (from torch->flash-attn) (3.13.1)\n",
      "Requirement already satisfied: typing-extensions in /cluster/home/eliashk/mistral/lib/python3.11/site-packages (from torch->flash-attn) (4.9.0)\n",
      "Requirement already satisfied: sympy in /cluster/home/eliashk/mistral/lib/python3.11/site-packages (from torch->flash-attn) (1.12)\n",
      "Requirement already satisfied: networkx in /cluster/home/eliashk/mistral/lib/python3.11/site-packages (from torch->flash-attn) (3.2.1)\n",
      "Requirement already satisfied: jinja2 in /cluster/home/eliashk/mistral/lib/python3.11/site-packages (from torch->flash-attn) (3.1.3)\n",
      "Requirement already satisfied: fsspec in /cluster/home/eliashk/mistral/lib/python3.11/site-packages (from torch->flash-attn) (2023.10.0)\n",
      "Requirement already satisfied: nvidia-cuda-nvrtc-cu12==12.1.105 in /cluster/home/eliashk/mistral/lib/python3.11/site-packages (from torch->flash-attn) (12.1.105)\n",
      "Requirement already satisfied: nvidia-cuda-runtime-cu12==12.1.105 in /cluster/home/eliashk/mistral/lib/python3.11/site-packages (from torch->flash-attn) (12.1.105)\n",
      "Requirement already satisfied: nvidia-cuda-cupti-cu12==12.1.105 in /cluster/home/eliashk/mistral/lib/python3.11/site-packages (from torch->flash-attn) (12.1.105)\n",
      "Requirement already satisfied: nvidia-cudnn-cu12==8.9.2.26 in /cluster/home/eliashk/mistral/lib/python3.11/site-packages (from torch->flash-attn) (8.9.2.26)\n",
      "Requirement already satisfied: nvidia-cublas-cu12==12.1.3.1 in /cluster/home/eliashk/mistral/lib/python3.11/site-packages (from torch->flash-attn) (12.1.3.1)\n",
      "Requirement already satisfied: nvidia-cufft-cu12==11.0.2.54 in /cluster/home/eliashk/mistral/lib/python3.11/site-packages (from torch->flash-attn) (11.0.2.54)\n",
      "Requirement already satisfied: nvidia-curand-cu12==10.3.2.106 in /cluster/home/eliashk/mistral/lib/python3.11/site-packages (from torch->flash-attn) (10.3.2.106)\n",
      "Requirement already satisfied: nvidia-cusolver-cu12==11.4.5.107 in /cluster/home/eliashk/mistral/lib/python3.11/site-packages (from torch->flash-attn) (11.4.5.107)\n",
      "Requirement already satisfied: nvidia-cusparse-cu12==12.1.0.106 in /cluster/home/eliashk/mistral/lib/python3.11/site-packages (from torch->flash-attn) (12.1.0.106)\n",
      "Requirement already satisfied: nvidia-nccl-cu12==2.18.1 in /cluster/home/eliashk/mistral/lib/python3.11/site-packages (from torch->flash-attn) (2.18.1)\n",
      "Requirement already satisfied: nvidia-nvtx-cu12==12.1.105 in /cluster/home/eliashk/mistral/lib/python3.11/site-packages (from torch->flash-attn) (12.1.105)\n",
      "Requirement already satisfied: triton==2.1.0 in /cluster/home/eliashk/mistral/lib/python3.11/site-packages (from torch->flash-attn) (2.1.0)\n",
      "Requirement already satisfied: nvidia-nvjitlink-cu12 in /cluster/home/eliashk/mistral/lib/python3.11/site-packages (from nvidia-cusolver-cu12==11.4.5.107->torch->flash-attn) (12.3.101)\n",
      "Requirement already satisfied: MarkupSafe>=2.0 in /cluster/home/eliashk/mistral/lib/python3.11/site-packages (from jinja2->torch->flash-attn) (2.1.4)\n",
      "Requirement already satisfied: mpmath>=0.19 in /cluster/home/eliashk/mistral/lib/python3.11/site-packages (from sympy->torch->flash-attn) (1.3.0)\n"
     ]
    }
   ],
   "source": [
    "import torch; assert torch.cuda.get_device_capability()[0] >= 8, 'Hardware not supported for Flash Attention'\n",
    "\n",
    "!pip install ninja packaging\n",
    "!MAX_JOBS=4 pip install flash-attn --no-build-isolation"
   ]
  },
  {
   "cell_type": "markdown",
   "metadata": {},
   "source": [
    "### Using HF model version service"
   ]
  },
  {
   "cell_type": "code",
   "execution_count": 5,
   "metadata": {},
   "outputs": [
    {
     "data": {
      "application/vnd.jupyter.widget-view+json": {
       "model_id": "e406859d4db74136820810ab8ffbf010",
       "version_major": 2,
       "version_minor": 0
      },
      "text/plain": [
       "VBox(children=(HTML(value='<center> <img\\nsrc=https://huggingface.co/front/assets/huggingface_logo-noborder.sv…"
      ]
     },
     "metadata": {},
     "output_type": "display_data"
    }
   ],
   "source": [
    "from huggingface_hub import notebook_login\n",
    "\n",
    "# login(\n",
    "#     token='',\n",
    "#     add_to_git_credential=True,\n",
    "#     write_permission=True,\n",
    "# )\n",
    "\n",
    "notebook_login()"
   ]
  },
  {
   "cell_type": "markdown",
   "metadata": {},
   "source": [
    "### Load dataset and convert to instruction or conversational format\n",
    "\n",
    "#### Conversational format\n",
    "{\"messages\": [{\"role\": \"system\", \"content\": \"You are...\"}, {\"role\": \"user\", \"content\": \"...\"}, {\"role\": \"assistant\", \"content\": \"...\"}]}\n",
    "\n",
    "{\"messages\": [{\"role\": \"system\", \"content\": \"You are...\"}, {\"role\": \"user\", \"content\": \"...\"}, {\"role\": \"assistant\", \"content\": \"...\"}]}\n",
    "\n",
    "{\"messages\": [{\"role\": \"system\", \"content\": \"You are...\"}, {\"role\": \"user\", \"content\": \"...\"}, {\"role\": \"assistant\", \"content\": \"...\"}]}\n",
    "\n",
    "#### Instruction format\n",
    "\n",
    "{\"prompt\": \"prompt text\", \"completion\": \"ideal generated text\"}\n",
    "\n",
    "{\"prompt\": \"prompt text\", \"completion\": \"ideal generated text\"}\n",
    "\n",
    "{\"prompt\": \"prompt text\", \"completion\": \"ideal generated text\"}\n"
   ]
  },
  {
   "cell_type": "code",
   "execution_count": 6,
   "metadata": {},
   "outputs": [],
   "source": [
    "from datasets import load_dataset\n",
    "\n",
    "system_message = '''You are the robot TARS that translates a domain.pddl file and a natural language instruction into a collection of instances, predicates and goals in an exact format. Users will give you a natural language command and you will generate the correct output based on the provided DOMAIN.\n",
    "DOMAIN:\n",
    "{domain}'''\n",
    "\n",
    "def create_conversation(sample):\n",
    "    return {\n",
    "        \"messages\": [\n",
    "            {'role': 'system', 'content': system_message.format(domain=sample['domain'])},\n",
    "            {'role': 'user', 'content': sample['input']},\n",
    "            {'role': 'assistant', 'content': sample['output']}\n",
    "        ]\n",
    "    }\n",
    "\n",
    "dataset_path = 'output_and_pddl_10_samples.jsonl'\n",
    "\n",
    "raw_dataset = load_dataset('json', data_files=dataset_path)\n"
   ]
  },
  {
   "cell_type": "code",
   "execution_count": 7,
   "metadata": {},
   "outputs": [
    {
     "data": {
      "application/vnd.jupyter.widget-view+json": {
       "model_id": "f31f79962343496dafbd5f1f214dce1d",
       "version_major": 2,
       "version_minor": 0
      },
      "text/plain": [
       "Creating json from Arrow format:   0%|          | 0/1 [00:00<?, ?ba/s]"
      ]
     },
     "metadata": {},
     "output_type": "display_data"
    },
    {
     "data": {
      "text/plain": [
       "81508"
      ]
     },
     "execution_count": 7,
     "metadata": {},
     "output_type": "execute_result"
    }
   ],
   "source": [
    "dataset = raw_dataset.map(create_conversation, batched=False)\n",
    "dataset['train'].to_json('train.jsonl', orient='records')"
   ]
  },
  {
   "cell_type": "markdown",
   "metadata": {},
   "source": [
    "### Load formatted dataset"
   ]
  },
  {
   "cell_type": "code",
   "execution_count": 16,
   "metadata": {},
   "outputs": [],
   "source": [
    "formatted_dataset = load_dataset('json', data_files='train.jsonl', split='train')"
   ]
  },
  {
   "cell_type": "markdown",
   "metadata": {},
   "source": [
    "### Configure model and tokenizer for Q-LoRA"
   ]
  },
  {
   "cell_type": "code",
   "execution_count": 9,
   "metadata": {},
   "outputs": [
    {
     "data": {
      "application/vnd.jupyter.widget-view+json": {
       "model_id": "01c987ccb01d409ba2b0c0892bedc5b2",
       "version_major": 2,
       "version_minor": 0
      },
      "text/plain": [
       "Loading checkpoint shards:   0%|          | 0/3 [00:00<?, ?it/s]"
      ]
     },
     "metadata": {},
     "output_type": "display_data"
    }
   ],
   "source": [
    "import torch\n",
    "from transformers import AutoTokenizer, AutoModelForCausalLM, BitsAndBytesConfig\n",
    "from trl import setup_chat_format\n",
    "\n",
    "base_model_id = 'mistralai/Mistral-7B-Instruct-v0.2'\n",
    "bnb_config = BitsAndBytesConfig(\n",
    "    load_in_4bit=True,\n",
    "    bnb_4bit_use_double_quant=True,\n",
    "    bnb_4bit_quant_type='nf4',\n",
    "    bnb_4bit_compute_dtype=torch.bfloat16,\n",
    ")\n",
    "\n",
    "model = AutoModelForCausalLM.from_pretrained(\n",
    "    base_model_id,\n",
    "    device_map='auto',\n",
    "    attn_implementation='flash_attention_2',\n",
    "    torch_dtype=torch.bfloat16,\n",
    "    quantization_config=bnb_config,\n",
    ")\n",
    "\n",
    "tokenizer = AutoTokenizer.from_pretrained(base_model_id)\n",
    "tokenizer.padding_side = 'left' # left for Mistral\n",
    "\n",
    "model, tokenizer = setup_chat_format(model, tokenizer)"
   ]
  },
  {
   "cell_type": "code",
   "execution_count": 10,
   "metadata": {},
   "outputs": [],
   "source": [
    "from peft import LoraConfig\n",
    "\n",
    "# numbers for QLoRA paper\n",
    "peft_config = LoraConfig(\n",
    "    lora_alpha=128,\n",
    "    lora_dropout=0.05,\n",
    "    r=256,\n",
    "    bias='none',\n",
    "    target_modules='all-linear',\n",
    "    task_type='CAUSAL_LM',\n",
    ")"
   ]
  },
  {
   "cell_type": "code",
   "execution_count": 17,
   "metadata": {},
   "outputs": [],
   "source": [
    "from transformers import TrainingArguments\n",
    "\n",
    "training_args = TrainingArguments(\n",
    "    output_dir = os.path.join(output_dir, 'qlora_finetuned'),\n",
    "    num_train_epochs=3,                     # number of training epochs\n",
    "    per_device_train_batch_size=3,          # batch size per device during training\n",
    "    gradient_accumulation_steps=2,          # number of steps before performing a backward/update pass\n",
    "    gradient_checkpointing=True,            # use gradient checkpointing to save memory\n",
    "    optim=\"adamw_torch_fused\",              # use fused adamw optimizer\n",
    "    logging_steps=10,                       # log every 10 steps\n",
    "    save_strategy=\"epoch\",                  # save checkpoint every epoch\n",
    "    learning_rate=2e-4,                     # learning rate, based on QLoRA paper\n",
    "    bf16=True,                              # use bfloat16 precision\n",
    "    tf32=True,                              # use tf32 precision\n",
    "    max_grad_norm=0.3,                      # max gradient norm based on QLoRA paper\n",
    "    warmup_ratio=0.03,                      # warmup ratio based on QLoRA paper\n",
    "    lr_scheduler_type=\"constant\",           # use constant learning rate scheduler\n",
    "    push_to_hub=True,                       # push model to hub\n",
    "    report_to=\"tensorboard\",                # report metrics to tensorboard\n",
    ")"
   ]
  },
  {
   "cell_type": "markdown",
   "metadata": {},
   "source": [
    "### Create SFT Trainer"
   ]
  },
  {
   "cell_type": "code",
   "execution_count": 18,
   "metadata": {},
   "outputs": [
    {
     "data": {
      "application/vnd.jupyter.widget-view+json": {
       "model_id": "e87fd7392040481494856a96d0cae048",
       "version_major": 2,
       "version_minor": 0
      },
      "text/plain": [
       "Generating train split: 0 examples [00:00, ? examples/s]"
      ]
     },
     "metadata": {},
     "output_type": "display_data"
    },
    {
     "name": "stderr",
     "output_type": "stream",
     "text": [
      "/cluster/home/eliashk/mistral/lib/python3.11/site-packages/trl/trainer/sft_trainer.py:290: UserWarning: You passed a tokenizer with `padding_side` not equal to `right` to the SFTTrainer. This might lead to some unexpected behaviour due to overflow issues when training a model in half-precision. You might consider adding `tokenizer.padding_side = 'right'` to your code.\n",
      "  warnings.warn(\n"
     ]
    }
   ],
   "source": [
    "from trl import SFTTrainer\n",
    "\n",
    "# find maximum sequence length in formatted_dataset\n",
    "# max for Mistral is 4096⋅32\n",
    "# max_seq_len = max(len(tokenizer.encode(x['content'])) for x in formatted_dataset['train']['messages'])\n",
    "max_seq_len = 4096\n",
    "\n",
    "trainer = SFTTrainer(\n",
    "    model=model,\n",
    "    args=training_args,\n",
    "    train_dataset=formatted_dataset,\n",
    "    peft_config=peft_config,\n",
    "    max_seq_length=max_seq_len if max_seq_len < 4096 else 4096,\n",
    "    tokenizer=tokenizer,\n",
    "    packing=True,\n",
    "    dataset_kwargs={\n",
    "        'add_special_tokens': False,\n",
    "        'append_concat_token': False,\n",
    "    }\n",
    ")"
   ]
  },
  {
   "cell_type": "markdown",
   "metadata": {},
   "source": [
    "### Start training"
   ]
  },
  {
   "cell_type": "code",
   "execution_count": 19,
   "metadata": {},
   "outputs": [
    {
     "name": "stderr",
     "output_type": "stream",
     "text": [
      "You're using a LlamaTokenizerFast tokenizer. Please note that with a fast tokenizer, using the `__call__` method is faster than using a method to encode the text followed by a call to the `pad` method to get a padded encoding.\n",
      "`use_cache=True` is incompatible with gradient checkpointing. Setting `use_cache=False`...\n",
      "/cluster/home/eliashk/mistral/lib/python3.11/site-packages/torch/utils/checkpoint.py:429: UserWarning: torch.utils.checkpoint: please pass in use_reentrant=True or use_reentrant=False explicitly. The default value of use_reentrant will be updated to be False in the future. To maintain current behavior, pass use_reentrant=True. It is recommended that you use use_reentrant=False. Refer to docs for more details on the differences between the two variants.\n",
      "  warnings.warn(\n",
      "The input hidden states seems to be silently casted in float32, this might be related to the fact you have upcasted embedding or layer norm layers in float32. We will cast back the input in torch.bfloat16.\n"
     ]
    },
    {
     "data": {
      "text/html": [
       "\n",
       "    <div>\n",
       "      \n",
       "      <progress value='3' max='3' style='width:300px; height:20px; vertical-align: middle;'></progress>\n",
       "      [3/3 00:34, Epoch 3/3]\n",
       "    </div>\n",
       "    <table border=\"1\" class=\"dataframe\">\n",
       "  <thead>\n",
       " <tr style=\"text-align: left;\">\n",
       "      <th>Step</th>\n",
       "      <th>Training Loss</th>\n",
       "    </tr>\n",
       "  </thead>\n",
       "  <tbody>\n",
       "  </tbody>\n",
       "</table><p>"
      ],
      "text/plain": [
       "<IPython.core.display.HTML object>"
      ]
     },
     "metadata": {},
     "output_type": "display_data"
    },
    {
     "name": "stderr",
     "output_type": "stream",
     "text": [
      "/cluster/home/eliashk/mistral/lib/python3.11/site-packages/peft/utils/save_and_load.py:141: UserWarning: Setting `save_embedding_layers` to `True` as the embedding layer has been resized during finetuning.\n",
      "  warnings.warn(\n",
      "/cluster/home/eliashk/mistral/lib/python3.11/site-packages/torch/utils/checkpoint.py:429: UserWarning: torch.utils.checkpoint: please pass in use_reentrant=True or use_reentrant=False explicitly. The default value of use_reentrant will be updated to be False in the future. To maintain current behavior, pass use_reentrant=True. It is recommended that you use use_reentrant=False. Refer to docs for more details on the differences between the two variants.\n",
      "  warnings.warn(\n",
      "/cluster/home/eliashk/mistral/lib/python3.11/site-packages/peft/utils/save_and_load.py:141: UserWarning: Setting `save_embedding_layers` to `True` as the embedding layer has been resized during finetuning.\n",
      "  warnings.warn(\n",
      "/cluster/home/eliashk/mistral/lib/python3.11/site-packages/torch/utils/checkpoint.py:429: UserWarning: torch.utils.checkpoint: please pass in use_reentrant=True or use_reentrant=False explicitly. The default value of use_reentrant will be updated to be False in the future. To maintain current behavior, pass use_reentrant=True. It is recommended that you use use_reentrant=False. Refer to docs for more details on the differences between the two variants.\n",
      "  warnings.warn(\n",
      "/cluster/home/eliashk/mistral/lib/python3.11/site-packages/peft/utils/save_and_load.py:141: UserWarning: Setting `save_embedding_layers` to `True` as the embedding layer has been resized during finetuning.\n",
      "  warnings.warn(\n",
      "/cluster/home/eliashk/mistral/lib/python3.11/site-packages/peft/utils/save_and_load.py:141: UserWarning: Setting `save_embedding_layers` to `True` as the embedding layer has been resized during finetuning.\n",
      "  warnings.warn(\n"
     ]
    },
    {
     "data": {
      "application/vnd.jupyter.widget-view+json": {
       "model_id": "289a9fa8cc9845269350e34a0e2f879d",
       "version_major": 2,
       "version_minor": 0
      },
      "text/plain": [
       "adapter_model.safetensors:   0%|          | 0.00/1.87G [00:00<?, ?B/s]"
      ]
     },
     "metadata": {},
     "output_type": "display_data"
    },
    {
     "data": {
      "application/vnd.jupyter.widget-view+json": {
       "model_id": "deb16d91a3044ee7a23dea638169d802",
       "version_major": 2,
       "version_minor": 0
      },
      "text/plain": [
       "Upload 2 LFS files:   0%|          | 0/2 [00:00<?, ?it/s]"
      ]
     },
     "metadata": {},
     "output_type": "display_data"
    },
    {
     "data": {
      "application/vnd.jupyter.widget-view+json": {
       "model_id": "4a8ef208d4164294a82abd8e2c034d58",
       "version_major": 2,
       "version_minor": 0
      },
      "text/plain": [
       "events.out.tfevents.1711036910.idun-04-09.413524.0:   0%|          | 0.00/5.18k [00:00<?, ?B/s]"
      ]
     },
     "metadata": {},
     "output_type": "display_data"
    }
   ],
   "source": [
    "trainer.train()\n",
    "trainer.save_model()"
   ]
  },
  {
   "cell_type": "code",
   "execution_count": null,
   "metadata": {},
   "outputs": [],
   "source": [
    "del model\n",
    "del trainer\n",
    "torch.cuda.empty_cache()"
   ]
  }
 ],
 "metadata": {
  "kernelspec": {
   "display_name": "falcon",
   "language": "python",
   "name": "python3"
  },
  "language_info": {
   "codemirror_mode": {
    "name": "ipython",
    "version": 3
   },
   "file_extension": ".py",
   "mimetype": "text/x-python",
   "name": "python",
   "nbconvert_exporter": "python",
   "pygments_lexer": "ipython3",
   "version": "3.11.7"
  }
 },
 "nbformat": 4,
 "nbformat_minor": 2
}
